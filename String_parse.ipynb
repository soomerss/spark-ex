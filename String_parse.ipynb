{
 "cells": [
  {
   "cell_type": "raw",
   "source": [
    "!wget https://s3-geospatial.s3-us-west-2.amazonaws.com/transfer_cost.txt\n"
   ],
   "metadata": {
    "collapsed": false
   }
  },
  {
   "cell_type": "code",
   "execution_count": 2,
   "outputs": [
    {
     "name": "stderr",
     "output_type": "stream",
     "text": [
      "Setting default log level to \"WARN\".\n",
      "To adjust logging level use sc.setLogLevel(newLevel). For SparkR, use setLogLevel(newLevel).\n"
     ]
    },
    {
     "name": "stdout",
     "output_type": "stream",
     "text": [
      "23/07/05 01:52:23 WARN NativeCodeLoader: Unable to load native-hadoop library for your platform... using builtin-java classes where applicable\n",
      "23/07/05 01:52:23 WARN Utils: Service 'SparkUI' could not bind on port 4040. Attempting port 4041.\n",
      "23/07/05 01:52:23 WARN Utils: Service 'SparkUI' could not bind on port 4041. Attempting port 4042.\n"
     ]
    }
   ],
   "source": [
    "from pyspark.sql import SparkSession\n",
    "from pyspark import SparkConf\n",
    "\n",
    "conf = SparkConf()\n",
    "conf.set('spark.app.name','pyspark_parse')\n",
    "conf.set('spark.master','local[*]')\n",
    "\n",
    "spark = SparkSession.builder\\\n",
    "    .config(conf=conf)\\\n",
    "    .getOrCreate()"
   ],
   "metadata": {
    "collapsed": false,
    "ExecuteTime": {
     "end_time": "2023-07-04T16:52:24.465990Z",
     "start_time": "2023-07-04T16:52:20.629925Z"
    }
   }
  },
  {
   "cell_type": "code",
   "execution_count": 4,
   "outputs": [
    {
     "name": "stdout",
     "output_type": "stream",
     "text": [
      "total 1096\r\n",
      "-rw-r--r--@ 1 giho.han  staff    4115 Jul  5 01:53 String_parse.ipynb\r\n",
      "-rw-r--r--@ 1 giho.han  staff    8893 Jul  5 01:43 colab_main2.ipynb\r\n",
      "drwxr-xr-x@ 2 giho.han  staff      64 Jul  5 01:43 \u001B[34mspark-warehouse\u001B[m\u001B[m\r\n",
      "-rw-r--r--@ 1 giho.han  staff   26077 Jul  5 01:18 colab_main1.ipynb\r\n",
      "-rw-r--r--@ 1 giho.han  staff      10 Jul  5 00:10 README.md\r\n",
      "-rw-r--r--@ 1 giho.han  staff     997 Jul  5 00:06 name_gender.csv\r\n",
      "-rw-r--r--@ 1 giho.han  staff     519 Jul  5 00:06 main.py\r\n",
      "-rw-r--r--@ 1 giho.han  staff  136855 Jul  5 00:06 customer-orders.csv\r\n",
      "-rw-r--r--@ 1 giho.han  staff   62728 Jul  5 00:06 1800.csv\r\n",
      "drwxr-xr-x@ 9 giho.han  staff     288 Jul  4 18:45 \u001B[34mvenv\u001B[m\u001B[m\r\n",
      "-rw-r--r--@ 1 giho.han  staff  146855 Apr 10  2022 customer-orders.csv.1\r\n",
      "-rw-r--r--@ 1 giho.han  staff  146855 Apr 10  2022 customer-orders.csv.2\r\n"
     ]
    }
   ],
   "source": [
    "!ls -tl"
   ],
   "metadata": {
    "collapsed": false,
    "ExecuteTime": {
     "end_time": "2023-07-04T16:53:02.127815Z",
     "start_time": "2023-07-04T16:53:02.012069Z"
    }
   }
  },
  {
   "cell_type": "code",
   "execution_count": 7,
   "outputs": [
    {
     "name": "stdout",
     "output_type": "stream",
     "text": [
      "On 2021-01-04 the cost per ton from 85001 to 85002 is $28.32 at ABC Hauling\r\n",
      "On 2021-01-04 the cost per ton from 85001 to 85004 is $25.68 at ABC Hauling\r\n",
      "On 2021-01-04 the cost per ton from 85001 to 85007 is 19.86 at ABC Hauling\r\n",
      "On 2021-01-04 the cost per ton from 85001 to 85007 is 20.52 at Haul Today\r\n",
      "On 2021-01-04 the cost per ton from 85001 to 85010 is 20.72 at Haul Today\r\n"
     ]
    }
   ],
   "source": [
    "!head -5 transfer_cost.txt"
   ],
   "metadata": {
    "collapsed": false,
    "ExecuteTime": {
     "end_time": "2023-07-04T16:54:00.754711Z",
     "start_time": "2023-07-04T16:54:00.625437Z"
    }
   }
  },
  {
   "cell_type": "code",
   "execution_count": 8,
   "outputs": [],
   "source": [
    "import pyspark.sql.functions as f\n",
    "from pyspark.sql.types import *\n",
    "\n",
    "schema = StructType([StructField(\"text\",StringType(),True)])\n",
    "trans_df = spark.read.schema(schema).text('transfer_cost.txt')\n"
   ],
   "metadata": {
    "collapsed": false,
    "ExecuteTime": {
     "end_time": "2023-07-04T16:55:22.798216Z",
     "start_time": "2023-07-04T16:55:20.253202Z"
    }
   }
  },
  {
   "cell_type": "code",
   "execution_count": null,
   "outputs": [],
   "source": [],
   "metadata": {
    "collapsed": false
   }
  },
  {
   "cell_type": "code",
   "execution_count": 10,
   "outputs": [
    {
     "name": "stdout",
     "output_type": "stream",
     "text": [
      "+---------------------------------------------------------------------------+\n",
      "|text                                                                       |\n",
      "+---------------------------------------------------------------------------+\n",
      "|On 2021-01-04 the cost per ton from 85001 to 85002 is $28.32 at ABC Hauling|\n",
      "|On 2021-01-04 the cost per ton from 85001 to 85004 is $25.68 at ABC Hauling|\n",
      "|On 2021-01-04 the cost per ton from 85001 to 85007 is 19.86 at ABC Hauling |\n",
      "|On 2021-01-04 the cost per ton from 85001 to 85007 is 20.52 at Haul Today  |\n",
      "|On 2021-01-04 the cost per ton from 85001 to 85010 is 20.72 at Haul Today  |\n",
      "|On 2021-01-04 the cost per ton from 85001 to 85012 is $18.98 at ABC Hauling|\n",
      "|On 2021-01-04 the cost per ton from 85001 to 85013 is 26.64 at Haul Today  |\n",
      "|On 2021-01-04 the cost per ton from 85001 to 85020 is 26.34 at ABC Hauling |\n",
      "|On 2021-01-04 the cost per ton from 85001 to 85021 is $20.15 at ABC Hauling|\n",
      "|On 2021-01-04 the cost per ton from 85002 to 85001 is 21.57 at Haul Today  |\n",
      "|On 2021-01-04 the cost per ton from 85002 to 85004 is 21.40 at Haul Today  |\n",
      "|On 2021-01-04 the cost per ton from 85002 to 85007 is 25.93 at Haul Today  |\n",
      "|On 2021-01-04 the cost per ton from 85002 to 85010 is 19.80 at Haul Today  |\n",
      "|On 2021-01-04 the cost per ton from 85002 to 85012 is 21.66 at Haul Today  |\n",
      "|On 2021-01-04 the cost per ton from 85002 to 85013 is $25.90 at Haul Today |\n",
      "|On 2021-01-04 the cost per ton from 85002 to 85020 is 19.15 at ABC Hauling |\n",
      "|On 2021-01-04 the cost per ton from 85002 to 85021 is $27.13 at Haul Today |\n",
      "|On 2021-01-04 the cost per ton from 85004 to 85001 is 23.88 at Haul Today  |\n",
      "|On 2021-01-04 the cost per ton from 85004 to 85002 is 26.40 at ABC Hauling |\n",
      "|On 2021-01-04 the cost per ton from 85004 to 85007 is 26.03 at ABC Hauling |\n",
      "+---------------------------------------------------------------------------+\n",
      "only showing top 20 rows\n",
      "\n"
     ]
    }
   ],
   "source": [
    "trans_df.show(truncate=False)"
   ],
   "metadata": {
    "collapsed": false,
    "ExecuteTime": {
     "end_time": "2023-07-04T16:55:41.141911Z",
     "start_time": "2023-07-04T16:55:40.653377Z"
    }
   }
  },
  {
   "cell_type": "code",
   "execution_count": null,
   "outputs": [],
   "source": [],
   "metadata": {
    "collapsed": false
   }
  },
  {
   "cell_type": "code",
   "execution_count": 24,
   "outputs": [
    {
     "ename": "NameError",
     "evalue": "name 'col' is not defined",
     "output_type": "error",
     "traceback": [
      "\u001B[0;31m---------------------------------------------------------------------------\u001B[0m",
      "\u001B[0;31mNameError\u001B[0m                                 Traceback (most recent call last)",
      "Cell \u001B[0;32mIn[24], line 6\u001B[0m\n\u001B[1;32m      1\u001B[0m \u001B[38;5;28;01mfrom\u001B[39;00m \u001B[38;5;21;01mpyspark\u001B[39;00m\u001B[38;5;21;01m.\u001B[39;00m\u001B[38;5;21;01msql\u001B[39;00m\u001B[38;5;21;01m.\u001B[39;00m\u001B[38;5;21;01mfunctions\u001B[39;00m \u001B[38;5;28;01mimport\u001B[39;00m regexp_extract\n\u001B[1;32m      3\u001B[0m regex_str \u001B[38;5;241m=\u001B[39m \u001B[38;5;124mr\u001B[39m\u001B[38;5;124m'\u001B[39m\u001B[38;5;124mON (\u001B[39m\u001B[38;5;124m\\\u001B[39m\u001B[38;5;124mS+) the cost per ton from (\u001B[39m\u001B[38;5;124m\\\u001B[39m\u001B[38;5;124md+) to (\u001B[39m\u001B[38;5;124m\\\u001B[39m\u001B[38;5;124md+) is (\u001B[39m\u001B[38;5;124m\\\u001B[39m\u001B[38;5;124mS+) at (.*)\u001B[39m\u001B[38;5;124m'\u001B[39m\n\u001B[1;32m      4\u001B[0m df_with_col \u001B[38;5;241m=\u001B[39m trans_df\\\n\u001B[1;32m      5\u001B[0m     \u001B[38;5;241m.\u001B[39mwithColumn(\u001B[38;5;124m'\u001B[39m\u001B[38;5;124mweek\u001B[39m\u001B[38;5;124m'\u001B[39m,regexp_extract(\u001B[38;5;124m'\u001B[39m\u001B[38;5;124mtext\u001B[39m\u001B[38;5;124m'\u001B[39m,regex_str,\u001B[38;5;241m1\u001B[39m))\\\n\u001B[0;32m----> 6\u001B[0m     \u001B[38;5;241m.\u001B[39mwithColumn(\u001B[38;5;124m'\u001B[39m\u001B[38;5;124mdeparture_zipcode\u001B[39m\u001B[38;5;124m'\u001B[39m,regexp_extract(\u001B[43mcol\u001B[49m(\u001B[38;5;124m\"\u001B[39m\u001B[38;5;124mtext\u001B[39m\u001B[38;5;124m\"\u001B[39m),regex_str,\u001B[38;5;241m2\u001B[39m))\\\n\u001B[1;32m      7\u001B[0m     \u001B[38;5;241m.\u001B[39mwithColumn(\u001B[38;5;124m'\u001B[39m\u001B[38;5;124marrival_zipcode\u001B[39m\u001B[38;5;124m'\u001B[39m,regexp_extract(trans_df\u001B[38;5;241m.\u001B[39mtext,regex_str,\u001B[38;5;241m3\u001B[39m))\\\n\u001B[1;32m      8\u001B[0m     \u001B[38;5;241m.\u001B[39mwithColumn(\u001B[38;5;124m'\u001B[39m\u001B[38;5;124mcost\u001B[39m\u001B[38;5;124m'\u001B[39m,regexp_extract(col(\u001B[38;5;124m'\u001B[39m\u001B[38;5;124mtext\u001B[39m\u001B[38;5;124m'\u001B[39m),regex_str,\u001B[38;5;241m4\u001B[39m))\\\n\u001B[1;32m      9\u001B[0m     \u001B[38;5;241m.\u001B[39mwithColumn(\u001B[38;5;124m'\u001B[39m\u001B[38;5;124mvendor\u001B[39m\u001B[38;5;124m'\u001B[39m,regexp_extract(col(\u001B[38;5;124m'\u001B[39m\u001B[38;5;124mtext\u001B[39m\u001B[38;5;124m'\u001B[39m),regex_str,\u001B[38;5;241m5\u001B[39m))\n",
      "\u001B[0;31mNameError\u001B[0m: name 'col' is not defined"
     ]
    }
   ],
   "source": [
    "from pyspark.sql.functions import regexp_extract\n",
    "\n",
    "regex_str = r'On (\\S+) the cost per ton from (\\d+) to (\\d+) is (\\S+) at (.*)'\n",
    "df_with_col = trans_df\\\n",
    "    .withColumn('week',regexp_extract('text',regex_str,1))\\\n",
    "    .withColumn('departure_zipcode',regexp_extract(col(\"text\"),regex_str,2))\\\n",
    "    .withColumn('arrival_zipcode',regexp_extract(trans_df.text,regex_str,3))\\\n",
    "    .withColumn('cost',regexp_extract(col('text'),regex_str,4))\\\n",
    "    .withColumn('vendor',regexp_extract(col('text'),regex_str,5))"
   ],
   "metadata": {
    "collapsed": false,
    "ExecuteTime": {
     "end_time": "2023-07-04T17:16:20.208500Z",
     "start_time": "2023-07-04T17:16:20.172486Z"
    }
   }
  },
  {
   "cell_type": "code",
   "execution_count": 30,
   "outputs": [],
   "source": [
    "from pyspark.sql.functions import regexp_extract\n",
    "\n",
    "regex_str = r'On (\\S+) the cost per ton from (\\d+) to (\\d+) is (\\S+) at (.*)'\n",
    "df_with_col = trans_df\\\n",
    "    .withColumn('week',regexp_extract('text',regex_str,1))\\\n",
    "    .withColumn('departure_zipcode',regexp_extract('text',regex_str,2))\\\n",
    "    .withColumn('arrival_zipcode',regexp_extract(trans_df.text,regex_str,3))\\\n",
    "    .withColumn('cost',regexp_extract(trans_df.text,regex_str,4))\\\n",
    "    .withColumn('vendor',regexp_extract(trans_df.text,regex_str,5))"
   ],
   "metadata": {
    "collapsed": false,
    "ExecuteTime": {
     "end_time": "2023-07-04T17:19:31.812160Z",
     "start_time": "2023-07-04T17:19:31.709628Z"
    }
   }
  },
  {
   "cell_type": "code",
   "execution_count": 31,
   "outputs": [
    {
     "name": "stdout",
     "output_type": "stream",
     "text": [
      "root\n",
      " |-- text: string (nullable = true)\n",
      " |-- week: string (nullable = true)\n",
      " |-- departure_zipcode: string (nullable = true)\n",
      " |-- arrival_zipcode: string (nullable = true)\n",
      " |-- cost: string (nullable = true)\n",
      " |-- vendor: string (nullable = true)\n",
      "\n"
     ]
    }
   ],
   "source": [
    " df_with_col.printSchema()"
   ],
   "metadata": {
    "collapsed": false,
    "ExecuteTime": {
     "end_time": "2023-07-04T17:19:33.451279Z",
     "start_time": "2023-07-04T17:19:33.442256Z"
    }
   }
  },
  {
   "cell_type": "code",
   "execution_count": 32,
   "outputs": [
    {
     "name": "stdout",
     "output_type": "stream",
     "text": [
      "+--------------------+----------+-----------------+---------------+------+-----------+\n",
      "|                text|      week|departure_zipcode|arrival_zipcode|  cost|     vendor|\n",
      "+--------------------+----------+-----------------+---------------+------+-----------+\n",
      "|On 2021-01-04 the...|2021-01-04|            85001|          85002|$28.32|ABC Hauling|\n",
      "|On 2021-01-04 the...|2021-01-04|            85001|          85004|$25.68|ABC Hauling|\n",
      "|On 2021-01-04 the...|2021-01-04|            85001|          85007| 19.86|ABC Hauling|\n",
      "|On 2021-01-04 the...|2021-01-04|            85001|          85007| 20.52| Haul Today|\n",
      "|On 2021-01-04 the...|2021-01-04|            85001|          85010| 20.72| Haul Today|\n",
      "|On 2021-01-04 the...|2021-01-04|            85001|          85012|$18.98|ABC Hauling|\n",
      "|On 2021-01-04 the...|2021-01-04|            85001|          85013| 26.64| Haul Today|\n",
      "|On 2021-01-04 the...|2021-01-04|            85001|          85020| 26.34|ABC Hauling|\n",
      "|On 2021-01-04 the...|2021-01-04|            85001|          85021|$20.15|ABC Hauling|\n",
      "|On 2021-01-04 the...|2021-01-04|            85002|          85001| 21.57| Haul Today|\n",
      "|On 2021-01-04 the...|2021-01-04|            85002|          85004| 21.40| Haul Today|\n",
      "|On 2021-01-04 the...|2021-01-04|            85002|          85007| 25.93| Haul Today|\n",
      "|On 2021-01-04 the...|2021-01-04|            85002|          85010| 19.80| Haul Today|\n",
      "|On 2021-01-04 the...|2021-01-04|            85002|          85012| 21.66| Haul Today|\n",
      "|On 2021-01-04 the...|2021-01-04|            85002|          85013|$25.90| Haul Today|\n",
      "|On 2021-01-04 the...|2021-01-04|            85002|          85020| 19.15|ABC Hauling|\n",
      "|On 2021-01-04 the...|2021-01-04|            85002|          85021|$27.13| Haul Today|\n",
      "|On 2021-01-04 the...|2021-01-04|            85004|          85001| 23.88| Haul Today|\n",
      "|On 2021-01-04 the...|2021-01-04|            85004|          85002| 26.40|ABC Hauling|\n",
      "|On 2021-01-04 the...|2021-01-04|            85004|          85007| 26.03|ABC Hauling|\n",
      "+--------------------+----------+-----------------+---------------+------+-----------+\n",
      "only showing top 20 rows\n",
      "\n"
     ]
    }
   ],
   "source": [
    "df_with_col.show()"
   ],
   "metadata": {
    "collapsed": false,
    "ExecuteTime": {
     "end_time": "2023-07-04T17:19:40.687608Z",
     "start_time": "2023-07-04T17:19:40.265463Z"
    }
   }
  },
  {
   "cell_type": "code",
   "execution_count": 33,
   "outputs": [],
   "source": [
    "final_df = df_with_col.drop('text')\n"
   ],
   "metadata": {
    "collapsed": false,
    "ExecuteTime": {
     "end_time": "2023-07-04T17:19:45.266784Z",
     "start_time": "2023-07-04T17:19:45.216880Z"
    }
   }
  },
  {
   "cell_type": "code",
   "execution_count": 35,
   "outputs": [],
   "source": [
    "final_df.write.csv('extract2.csv')"
   ],
   "metadata": {
    "collapsed": false,
    "ExecuteTime": {
     "end_time": "2023-07-04T17:20:01.777645Z",
     "start_time": "2023-07-04T17:20:01.321463Z"
    }
   }
  },
  {
   "cell_type": "code",
   "execution_count": 38,
   "outputs": [
    {
     "name": "stdout",
     "output_type": "stream",
     "text": [
      "total 312\r\n",
      "-rw-r--r--@ 1 giho.han  staff       0 Jul  5 02:20 _SUCCESS\r\n",
      "-rw-r--r--@ 1 giho.han  staff  156423 Jul  5 02:20 part-00000-35cfa437-c7f0-4f89-98cc-e22c9cc94e65-c000.csv\r\n"
     ]
    }
   ],
   "source": [
    "!ls -tl extract2.csv/"
   ],
   "metadata": {
    "collapsed": false,
    "ExecuteTime": {
     "end_time": "2023-07-04T17:20:18.694757Z",
     "start_time": "2023-07-04T17:20:18.573648Z"
    }
   }
  },
  {
   "cell_type": "code",
   "execution_count": 39,
   "outputs": [
    {
     "name": "stdout",
     "output_type": "stream",
     "text": [
      "2021-01-04,85001,85002,$28.32,ABC Hauling\r\n",
      "2021-01-04,85001,85004,$25.68,ABC Hauling\r\n",
      "2021-01-04,85001,85007,19.86,ABC Hauling\r\n",
      "2021-01-04,85001,85007,20.52,Haul Today\r\n",
      "2021-01-04,85001,85010,20.72,Haul Today\r\n"
     ]
    }
   ],
   "source": [
    "!head -5 extract2.csv/part-00000-35cfa437-c7f0-4f89-98cc-e22c9cc94e65-c000.csv\n"
   ],
   "metadata": {
    "collapsed": false,
    "ExecuteTime": {
     "end_time": "2023-07-04T17:20:25.217180Z",
     "start_time": "2023-07-04T17:20:25.091150Z"
    }
   }
  },
  {
   "cell_type": "code",
   "execution_count": 40,
   "outputs": [],
   "source": [
    "final_df.write.format('json').save('extracted.json')"
   ],
   "metadata": {
    "collapsed": false,
    "ExecuteTime": {
     "end_time": "2023-07-04T17:20:52.666997Z",
     "start_time": "2023-07-04T17:20:52.121616Z"
    }
   }
  },
  {
   "cell_type": "code",
   "execution_count": 42,
   "outputs": [
    {
     "name": "stdout",
     "output_type": "stream",
     "text": [
      "total 856\r\n",
      "-rw-r--r--@ 1 giho.han  staff       0 Jul  5 02:20 _SUCCESS\r\n",
      "-rw-r--r--@ 1 giho.han  staff  436305 Jul  5 02:20 part-00000-61e83676-cb49-43ff-a73d-2ce0a82abbf1-c000.json\r\n"
     ]
    }
   ],
   "source": [
    "!ls -lt extracted.json/"
   ],
   "metadata": {
    "collapsed": false,
    "ExecuteTime": {
     "end_time": "2023-07-04T17:22:08.275465Z",
     "start_time": "2023-07-04T17:22:08.152031Z"
    }
   }
  },
  {
   "cell_type": "code",
   "execution_count": null,
   "outputs": [],
   "source": [],
   "metadata": {
    "collapsed": false
   }
  }
 ],
 "metadata": {
  "kernelspec": {
   "display_name": "Python 3",
   "language": "python",
   "name": "python3"
  },
  "language_info": {
   "codemirror_mode": {
    "name": "ipython",
    "version": 2
   },
   "file_extension": ".py",
   "mimetype": "text/x-python",
   "name": "python",
   "nbconvert_exporter": "python",
   "pygments_lexer": "ipython2",
   "version": "2.7.6"
  }
 },
 "nbformat": 4,
 "nbformat_minor": 0
}

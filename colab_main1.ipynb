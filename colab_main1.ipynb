{
 "cells": [
  {
   "cell_type": "code",
   "execution_count": 2,
   "metadata": {
    "collapsed": true,
    "ExecuteTime": {
     "end_time": "2023-07-04T11:54:22.128989Z",
     "start_time": "2023-07-04T11:54:21.636554Z"
    }
   },
   "outputs": [],
   "source": [
    "from pyspark.sql import SparkSession\n",
    "\n",
    "spark = SparkSession.builder\\\n",
    "    .master(\"local[*]\")\\\n",
    "    .appName('Pyspark_ex')\\\n",
    "    .getOrCreate()"
   ]
  },
  {
   "cell_type": "code",
   "execution_count": 6,
   "outputs": [],
   "source": [
    "df= spark.read.csv(\"name_gender.csv\")"
   ],
   "metadata": {
    "collapsed": false,
    "ExecuteTime": {
     "end_time": "2023-07-04T12:14:39.280625Z",
     "start_time": "2023-07-04T12:14:36.552773Z"
    }
   }
  },
  {
   "cell_type": "code",
   "execution_count": 7,
   "outputs": [
    {
     "name": "stdout",
     "output_type": "stream",
     "text": [
      "--2023-07-04 22:51:01--  https://s3-geospatial.s3-us-west-2.amazonaws.com/1800.csv\r\n",
      "Resolving s3-geospatial.s3-us-west-2.amazonaws.com (s3-geospatial.s3-us-west-2.amazonaws.com)... 52.218.243.65, 3.5.82.174, 52.218.193.57, ...\r\n",
      "Connecting to s3-geospatial.s3-us-west-2.amazonaws.com (s3-geospatial.s3-us-west-2.amazonaws.com)|52.218.243.65|:443... connected.\r\n",
      "HTTP request sent, awaiting response... 200 OK\r\n",
      "Length: 62728 (61K) [text/csv]\r\n",
      "Saving to: ‘1800.csv’\r\n",
      "\r\n",
      "1800.csv            100%[===================>]  61.26K   189KB/s    in 0.3s    \r\n",
      "\r\n",
      "2023-07-04 22:51:02 (189 KB/s) - ‘1800.csv’ saved [62728/62728]\r\n",
      "\r\n"
     ]
    }
   ],
   "source": [
    "!wget https://s3-geospatial.s3-us-west-2.amazonaws.com/1800.csv\n"
   ],
   "metadata": {
    "collapsed": false,
    "ExecuteTime": {
     "end_time": "2023-07-04T13:51:02.898517Z",
     "start_time": "2023-07-04T13:51:01.608988Z"
    }
   }
  },
  {
   "cell_type": "code",
   "execution_count": 10,
   "outputs": [
    {
     "name": "stdout",
     "output_type": "stream",
     "text": [
      "ITE00100554,18000101,TMAX,-75,,,E,\r\n",
      "ITE00100554,18000101,TMIN,-148,,,E,\r\n",
      "GM000010962,18000101,PRCP,0,,,E,\r\n",
      "EZE00100082,18000101,TMAX,-86,,,E,\r\n",
      "EZE00100082,18000101,TMIN,-135,,,E,\r\n"
     ]
    }
   ],
   "source": [
    "!head -5 1800.csv"
   ],
   "metadata": {
    "collapsed": false,
    "ExecuteTime": {
     "end_time": "2023-07-04T13:51:36.849863Z",
     "start_time": "2023-07-04T13:51:36.723904Z"
    }
   }
  },
  {
   "cell_type": "code",
   "execution_count": 19,
   "outputs": [
    {
     "data": {
      "text/plain": "        stationID      data measure_type  temperature\n0     ITE00100554  18000101         TMAX          -75\n1     ITE00100554  18000101         TMIN         -148\n2     GM000010962  18000101         PRCP            0\n3     EZE00100082  18000101         TMAX          -86\n4     EZE00100082  18000101         TMIN         -135\n...           ...       ...          ...          ...\n1820  ITE00100554  18001231         TMAX           50\n1821  ITE00100554  18001231         TMIN           25\n1822  GM000010962  18001231         PRCP           16\n1823  EZE00100082  18001231         TMAX           14\n1824  EZE00100082  18001231         TMIN           -4\n\n[1825 rows x 4 columns]",
      "text/html": "<div>\n<style scoped>\n    .dataframe tbody tr th:only-of-type {\n        vertical-align: middle;\n    }\n\n    .dataframe tbody tr th {\n        vertical-align: top;\n    }\n\n    .dataframe thead th {\n        text-align: right;\n    }\n</style>\n<table border=\"1\" class=\"dataframe\">\n  <thead>\n    <tr style=\"text-align: right;\">\n      <th></th>\n      <th>stationID</th>\n      <th>data</th>\n      <th>measure_type</th>\n      <th>temperature</th>\n    </tr>\n  </thead>\n  <tbody>\n    <tr>\n      <th>0</th>\n      <td>ITE00100554</td>\n      <td>18000101</td>\n      <td>TMAX</td>\n      <td>-75</td>\n    </tr>\n    <tr>\n      <th>1</th>\n      <td>ITE00100554</td>\n      <td>18000101</td>\n      <td>TMIN</td>\n      <td>-148</td>\n    </tr>\n    <tr>\n      <th>2</th>\n      <td>GM000010962</td>\n      <td>18000101</td>\n      <td>PRCP</td>\n      <td>0</td>\n    </tr>\n    <tr>\n      <th>3</th>\n      <td>EZE00100082</td>\n      <td>18000101</td>\n      <td>TMAX</td>\n      <td>-86</td>\n    </tr>\n    <tr>\n      <th>4</th>\n      <td>EZE00100082</td>\n      <td>18000101</td>\n      <td>TMIN</td>\n      <td>-135</td>\n    </tr>\n    <tr>\n      <th>...</th>\n      <td>...</td>\n      <td>...</td>\n      <td>...</td>\n      <td>...</td>\n    </tr>\n    <tr>\n      <th>1820</th>\n      <td>ITE00100554</td>\n      <td>18001231</td>\n      <td>TMAX</td>\n      <td>50</td>\n    </tr>\n    <tr>\n      <th>1821</th>\n      <td>ITE00100554</td>\n      <td>18001231</td>\n      <td>TMIN</td>\n      <td>25</td>\n    </tr>\n    <tr>\n      <th>1822</th>\n      <td>GM000010962</td>\n      <td>18001231</td>\n      <td>PRCP</td>\n      <td>16</td>\n    </tr>\n    <tr>\n      <th>1823</th>\n      <td>EZE00100082</td>\n      <td>18001231</td>\n      <td>TMAX</td>\n      <td>14</td>\n    </tr>\n    <tr>\n      <th>1824</th>\n      <td>EZE00100082</td>\n      <td>18001231</td>\n      <td>TMIN</td>\n      <td>-4</td>\n    </tr>\n  </tbody>\n</table>\n<p>1825 rows × 4 columns</p>\n</div>"
     },
     "execution_count": 19,
     "metadata": {},
     "output_type": "execute_result"
    }
   ],
   "source": [
    "import pandas as pd\n",
    "\n",
    "pd_df = pd.read_csv(\n",
    "    \"1800.csv\",\n",
    "    names=['stationID','data','measure_type','temperature'],\n",
    "    usecols=[0,1,2,3]\n",
    ")\n",
    "pd_dfb"
   ],
   "metadata": {
    "collapsed": false,
    "ExecuteTime": {
     "end_time": "2023-07-04T13:54:08.842944Z",
     "start_time": "2023-07-04T13:54:08.822963Z"
    }
   }
  },
  {
   "cell_type": "code",
   "execution_count": 22,
   "outputs": [],
   "source": [
    "pd_mintemp = pd_df[pd_df[\"measure_type\"]==\"TMIN\"]"
   ],
   "metadata": {
    "collapsed": false,
    "ExecuteTime": {
     "end_time": "2023-07-04T13:55:05.158416Z",
     "start_time": "2023-07-04T13:55:05.152967Z"
    }
   }
  },
  {
   "cell_type": "code",
   "execution_count": 23,
   "outputs": [],
   "source": [
    "pd_stationtemp = pd_mintemp[[\"stationID\",\"temperature\"]]"
   ],
   "metadata": {
    "collapsed": false,
    "ExecuteTime": {
     "end_time": "2023-07-04T13:55:24.094248Z",
     "start_time": "2023-07-04T13:55:24.087951Z"
    }
   }
  },
  {
   "cell_type": "code",
   "execution_count": 30,
   "outputs": [
    {
     "data": {
      "text/plain": "             temperature\nstationID               \nEZE00100082          204\nITE00100554          241",
      "text/html": "<div>\n<style scoped>\n    .dataframe tbody tr th:only-of-type {\n        vertical-align: middle;\n    }\n\n    .dataframe tbody tr th {\n        vertical-align: top;\n    }\n\n    .dataframe thead th {\n        text-align: right;\n    }\n</style>\n<table border=\"1\" class=\"dataframe\">\n  <thead>\n    <tr style=\"text-align: right;\">\n      <th></th>\n      <th>temperature</th>\n    </tr>\n    <tr>\n      <th>stationID</th>\n      <th></th>\n    </tr>\n  </thead>\n  <tbody>\n    <tr>\n      <th>EZE00100082</th>\n      <td>204</td>\n    </tr>\n    <tr>\n      <th>ITE00100554</th>\n      <td>241</td>\n    </tr>\n  </tbody>\n</table>\n</div>"
     },
     "execution_count": 30,
     "metadata": {},
     "output_type": "execute_result"
    }
   ],
   "source": [
    "pd_stationtemp.groupby([\"stationID\"]).max()"
   ],
   "metadata": {
    "collapsed": false,
    "ExecuteTime": {
     "end_time": "2023-07-04T13:56:47.999759Z",
     "start_time": "2023-07-04T13:56:47.994342Z"
    }
   }
  },
  {
   "cell_type": "code",
   "execution_count": 12,
   "outputs": [
    {
     "name": "stdout",
     "output_type": "stream",
     "text": [
      "Collecting pandas\r\n",
      "  Downloading pandas-2.0.3-cp39-cp39-macosx_11_0_arm64.whl (10.9 MB)\r\n",
      "\u001B[2K     \u001B[90m━━━━━━━━━━━━━━━━━━━━━━━━━━━━━━━━━━━━━━━━\u001B[0m \u001B[32m10.9/10.9 MB\u001B[0m \u001B[31m55.9 MB/s\u001B[0m eta \u001B[36m0:00:00\u001B[0m \u001B[36m0:00:01\u001B[0m\r\n",
      "\u001B[?25hRequirement already satisfied: python-dateutil>=2.8.2 in ./venv/lib/python3.9/site-packages (from pandas) (2.8.2)\r\n",
      "Collecting pytz>=2020.1 (from pandas)\r\n",
      "  Using cached pytz-2023.3-py2.py3-none-any.whl (502 kB)\r\n",
      "Collecting tzdata>=2022.1 (from pandas)\r\n",
      "  Using cached tzdata-2023.3-py2.py3-none-any.whl (341 kB)\r\n",
      "Collecting numpy>=1.20.3 (from pandas)\r\n",
      "  Using cached numpy-1.25.0-cp39-cp39-macosx_11_0_arm64.whl (14.0 MB)\r\n",
      "Requirement already satisfied: six>=1.5 in ./venv/lib/python3.9/site-packages (from python-dateutil>=2.8.2->pandas) (1.16.0)\r\n",
      "Installing collected packages: pytz, tzdata, numpy, pandas\r\n",
      "Successfully installed numpy-1.25.0 pandas-2.0.3 pytz-2023.3 tzdata-2023.3\r\n"
     ]
    }
   ],
   "source": [
    "!pip install pandas"
   ],
   "metadata": {
    "collapsed": false,
    "ExecuteTime": {
     "end_time": "2023-07-04T13:52:57.565297Z",
     "start_time": "2023-07-04T13:52:51.032758Z"
    }
   }
  },
  {
   "cell_type": "code",
   "execution_count": 31,
   "outputs": [
    {
     "name": "stdout",
     "output_type": "stream",
     "text": [
      "23/07/04 23:15:41 WARN SparkSession: Using an existing Spark session; only runtime SQL configurations will take effect.\n"
     ]
    }
   ],
   "source": [
    "from pyspark.sql import SparkSession\n",
    "from pyspark import SparkConf\n",
    "\n",
    "conf = SparkConf()\n",
    "conf.set(\"spark.app.name\",\"soomers DataFrame\")\n",
    "conf.set(\"spark.master\",\"local[*]\")\n",
    "\n",
    "spark = SparkSession.builder\\\n",
    "    .config(conf=conf)\\\n",
    "    .getOrCreate()"
   ],
   "metadata": {
    "collapsed": false,
    "ExecuteTime": {
     "end_time": "2023-07-04T14:15:41.306681Z",
     "start_time": "2023-07-04T14:15:41.263368Z"
    }
   }
  },
  {
   "cell_type": "code",
   "execution_count": 32,
   "outputs": [],
   "source": [
    "df = spark.read.format('csv').load('1800.csv') # spark.read.csv('1800.csv')"
   ],
   "metadata": {
    "collapsed": false,
    "ExecuteTime": {
     "end_time": "2023-07-04T14:17:03.008396Z",
     "start_time": "2023-07-04T14:17:02.774845Z"
    }
   }
  },
  {
   "cell_type": "code",
   "execution_count": 34,
   "outputs": [
    {
     "name": "stdout",
     "output_type": "stream",
     "text": [
      "root\n",
      " |-- _c0: string (nullable = true)\n",
      " |-- _c1: string (nullable = true)\n",
      " |-- _c2: string (nullable = true)\n",
      " |-- _c3: string (nullable = true)\n",
      " |-- _c4: string (nullable = true)\n",
      " |-- _c5: string (nullable = true)\n",
      " |-- _c6: string (nullable = true)\n",
      " |-- _c7: string (nullable = true)\n",
      "\n"
     ]
    }
   ],
   "source": [
    "df.printSchema()"
   ],
   "metadata": {
    "collapsed": false,
    "ExecuteTime": {
     "end_time": "2023-07-04T14:17:21.122551Z",
     "start_time": "2023-07-04T14:17:21.089658Z"
    }
   }
  },
  {
   "cell_type": "code",
   "execution_count": 35,
   "outputs": [],
   "source": [
    "df = spark.read.format('csv')\\\n",
    "    .load('1800.csv')\\\n",
    "    .toDF(\"stationID\",\"date\",'measure_tpye','temperature','_c4','_c5','_c6','_c7')"
   ],
   "metadata": {
    "collapsed": false,
    "ExecuteTime": {
     "end_time": "2023-07-04T14:18:41.619037Z",
     "start_time": "2023-07-04T14:18:41.393724Z"
    }
   }
  },
  {
   "cell_type": "code",
   "execution_count": 36,
   "outputs": [
    {
     "name": "stdout",
     "output_type": "stream",
     "text": [
      "root\n",
      " |-- stationID: string (nullable = true)\n",
      " |-- date: string (nullable = true)\n",
      " |-- measure_tpye: string (nullable = true)\n",
      " |-- temperature: string (nullable = true)\n",
      " |-- _c4: string (nullable = true)\n",
      " |-- _c5: string (nullable = true)\n",
      " |-- _c6: string (nullable = true)\n",
      " |-- _c7: string (nullable = true)\n",
      "\n"
     ]
    }
   ],
   "source": [
    "df.printSchema()"
   ],
   "metadata": {
    "collapsed": false,
    "ExecuteTime": {
     "end_time": "2023-07-04T14:18:45.890940Z",
     "start_time": "2023-07-04T14:18:45.886909Z"
    }
   }
  },
  {
   "cell_type": "code",
   "execution_count": 38,
   "outputs": [],
   "source": [
    "df = spark.read.format('csv')\\\n",
    "    .option('inferSchema','true')\\\n",
    "    .load('1800.csv')\\\n",
    "    .toDF(\"stationID\",\"date\",'measure_tpye','temperature','_c4','_c5','_c6','_c7')"
   ],
   "metadata": {
    "collapsed": false,
    "ExecuteTime": {
     "end_time": "2023-07-04T14:19:20.217987Z",
     "start_time": "2023-07-04T14:19:19.920217Z"
    }
   }
  },
  {
   "cell_type": "code",
   "execution_count": 40,
   "outputs": [
    {
     "name": "stdout",
     "output_type": "stream",
     "text": [
      "root\n",
      " |-- stationID: string (nullable = true)\n",
      " |-- date: integer (nullable = true)\n",
      " |-- measure_tpye: string (nullable = true)\n",
      " |-- temperature: integer (nullable = true)\n",
      " |-- _c4: string (nullable = true)\n",
      " |-- _c5: string (nullable = true)\n",
      " |-- _c6: string (nullable = true)\n",
      " |-- _c7: string (nullable = true)\n",
      "\n"
     ]
    }
   ],
   "source": [
    "df.printSchema()"
   ],
   "metadata": {
    "collapsed": false,
    "ExecuteTime": {
     "end_time": "2023-07-04T14:19:28.713739Z",
     "start_time": "2023-07-04T14:19:28.709592Z"
    }
   }
  },
  {
   "cell_type": "code",
   "execution_count": null,
   "outputs": [],
   "source": [],
   "metadata": {
    "collapsed": false
   }
  },
  {
   "cell_type": "code",
   "execution_count": 41,
   "outputs": [],
   "source": [
    "from pyspark.sql.types import  StringType, IntegerType, FloatType\n",
    "from pyspark.sql.types import StructField, StructType\n",
    "\n",
    "# struct type 안에 field 반복\n",
    "# struct Field는 필드명, 타입, null값 허용 여부\n",
    "schema = StructType([\\\n",
    "    StructField('stationID',StringType(),True),\\\n",
    "    StructField('date',IntegerType(),True),\\b\n",
    "    StructField('measure_type',StringType(),True),\\\n",
    "    StructField('temperature',FloatType(),True)])"
   ],
   "metadata": {
    "collapsed": false,
    "ExecuteTime": {
     "end_time": "2023-07-04T14:23:34.662316Z",
     "start_time": "2023-07-04T14:23:34.656610Z"
    }
   }
  },
  {
   "cell_type": "code",
   "execution_count": 42,
   "outputs": [],
   "source": [
    "df = spark.read.schema(schema).csv('1800.csv')"
   ],
   "metadata": {
    "collapsed": false,
    "ExecuteTime": {
     "end_time": "2023-07-04T14:23:51.363958Z",
     "start_time": "2023-07-04T14:23:51.298744Z"
    }
   }
  },
  {
   "cell_type": "code",
   "execution_count": 43,
   "outputs": [
    {
     "name": "stdout",
     "output_type": "stream",
     "text": [
      "root\n",
      " |-- stationID: string (nullable = true)\n",
      " |-- date: integer (nullable = true)\n",
      " |-- measure_type: string (nullable = true)\n",
      " |-- temperature: float (nullable = true)\n",
      "\n"
     ]
    }
   ],
   "source": [
    "df.printSchema()"
   ],
   "metadata": {
    "collapsed": false,
    "ExecuteTime": {
     "end_time": "2023-07-04T14:23:56.530538Z",
     "start_time": "2023-07-04T14:23:56.520079Z"
    }
   }
  },
  {
   "cell_type": "code",
   "execution_count": 45,
   "outputs": [],
   "source": [
    "minTemp = df.filter(df.measure_type == \"TMIN\")"
   ],
   "metadata": {
    "collapsed": false,
    "ExecuteTime": {
     "end_time": "2023-07-04T14:24:40.525259Z",
     "start_time": "2023-07-04T14:24:40.500500Z"
    }
   }
  },
  {
   "cell_type": "code",
   "execution_count": 48,
   "outputs": [],
   "source": [
    "minTemp2 = df.where(\"measure_type = 'TMIN'\") # SQL expression"
   ],
   "metadata": {
    "collapsed": false,
    "ExecuteTime": {
     "end_time": "2023-07-04T14:25:20.918835Z",
     "start_time": "2023-07-04T14:25:20.841151Z"
    }
   }
  },
  {
   "cell_type": "code",
   "execution_count": 52,
   "outputs": [],
   "source": [
    "minTemp3 = df.where(df.measure_type == 'TMIN')\n"
   ],
   "metadata": {
    "collapsed": false,
    "ExecuteTime": {
     "end_time": "2023-07-04T14:26:36.326508Z",
     "start_time": "2023-07-04T14:26:36.225518Z"
    }
   }
  },
  {
   "cell_type": "code",
   "execution_count": 53,
   "outputs": [
    {
     "name": "stdout",
     "output_type": "stream",
     "text": [
      "+-----------+--------+------------+-----------+\n",
      "|  stationID|    date|measure_type|temperature|\n",
      "+-----------+--------+------------+-----------+\n",
      "|ITE00100554|18000101|        TMIN|     -148.0|\n",
      "|EZE00100082|18000101|        TMIN|     -135.0|\n",
      "|ITE00100554|18000102|        TMIN|     -125.0|\n",
      "|EZE00100082|18000102|        TMIN|     -130.0|\n",
      "|ITE00100554|18000103|        TMIN|      -46.0|\n",
      "|EZE00100082|18000103|        TMIN|      -73.0|\n",
      "|ITE00100554|18000104|        TMIN|      -13.0|\n",
      "|EZE00100082|18000104|        TMIN|      -74.0|\n",
      "|ITE00100554|18000105|        TMIN|       -6.0|\n",
      "|EZE00100082|18000105|        TMIN|      -58.0|\n",
      "|ITE00100554|18000106|        TMIN|       13.0|\n",
      "|EZE00100082|18000106|        TMIN|      -57.0|\n",
      "|ITE00100554|18000107|        TMIN|       10.0|\n",
      "|EZE00100082|18000107|        TMIN|      -50.0|\n",
      "|ITE00100554|18000108|        TMIN|       14.0|\n",
      "|EZE00100082|18000108|        TMIN|      -31.0|\n",
      "|ITE00100554|18000109|        TMIN|       23.0|\n",
      "|EZE00100082|18000109|        TMIN|      -46.0|\n",
      "|ITE00100554|18000110|        TMIN|       31.0|\n",
      "|EZE00100082|18000110|        TMIN|      -75.0|\n",
      "+-----------+--------+------------+-----------+\n",
      "only showing top 20 rows\n",
      "\n"
     ]
    }
   ],
   "source": [
    "minTemp3.show()"
   ],
   "metadata": {
    "collapsed": false,
    "ExecuteTime": {
     "end_time": "2023-07-04T14:26:42.048006Z",
     "start_time": "2023-07-04T14:26:41.870472Z"
    }
   }
  },
  {
   "cell_type": "code",
   "execution_count": 50,
   "outputs": [
    {
     "name": "stdout",
     "output_type": "stream",
     "text": [
      "+-----------+--------+------------+-----------+\n",
      "|  stationID|    date|measure_type|temperature|\n",
      "+-----------+--------+------------+-----------+\n",
      "|ITE00100554|18000101|        TMIN|     -148.0|\n",
      "|EZE00100082|18000101|        TMIN|     -135.0|\n",
      "|ITE00100554|18000102|        TMIN|     -125.0|\n",
      "|EZE00100082|18000102|        TMIN|     -130.0|\n",
      "|ITE00100554|18000103|        TMIN|      -46.0|\n",
      "|EZE00100082|18000103|        TMIN|      -73.0|\n",
      "|ITE00100554|18000104|        TMIN|      -13.0|\n",
      "|EZE00100082|18000104|        TMIN|      -74.0|\n",
      "|ITE00100554|18000105|        TMIN|       -6.0|\n",
      "|EZE00100082|18000105|        TMIN|      -58.0|\n",
      "|ITE00100554|18000106|        TMIN|       13.0|\n",
      "|EZE00100082|18000106|        TMIN|      -57.0|\n",
      "|ITE00100554|18000107|        TMIN|       10.0|\n",
      "|EZE00100082|18000107|        TMIN|      -50.0|\n",
      "|ITE00100554|18000108|        TMIN|       14.0|\n",
      "|EZE00100082|18000108|        TMIN|      -31.0|\n",
      "|ITE00100554|18000109|        TMIN|       23.0|\n",
      "|EZE00100082|18000109|        TMIN|      -46.0|\n",
      "|ITE00100554|18000110|        TMIN|       31.0|\n",
      "|EZE00100082|18000110|        TMIN|      -75.0|\n",
      "+-----------+--------+------------+-----------+\n",
      "only showing top 20 rows\n",
      "\n"
     ]
    }
   ],
   "source": [
    "minTemp2.show()"
   ],
   "metadata": {
    "collapsed": false,
    "ExecuteTime": {
     "end_time": "2023-07-04T14:25:32.578495Z",
     "start_time": "2023-07-04T14:25:32.389574Z"
    }
   }
  },
  {
   "cell_type": "markdown",
   "source": [],
   "metadata": {
    "collapsed": false
   }
  },
  {
   "cell_type": "code",
   "execution_count": 54,
   "outputs": [],
   "source": [
    "min_temp_by_station = minTemp.groupby(\"stationID\").min(\"temperature\")"
   ],
   "metadata": {
    "collapsed": false,
    "ExecuteTime": {
     "end_time": "2023-07-04T14:27:20.560919Z",
     "start_time": "2023-07-04T14:27:20.511Z"
    }
   }
  },
  {
   "cell_type": "code",
   "execution_count": 58,
   "outputs": [],
   "source": [
    "station_temp = minTemp[[\"stationID\",\"temperature\"]]"
   ],
   "metadata": {
    "collapsed": false,
    "ExecuteTime": {
     "end_time": "2023-07-04T14:28:54.856435Z",
     "start_time": "2023-07-04T14:28:54.837806Z"
    }
   }
  },
  {
   "cell_type": "code",
   "execution_count": 59,
   "outputs": [
    {
     "name": "stdout",
     "output_type": "stream",
     "text": [
      "+-----------+-----------+\n",
      "|  stationID|temperature|\n",
      "+-----------+-----------+\n",
      "|ITE00100554|     -148.0|\n",
      "|EZE00100082|     -135.0|\n",
      "|ITE00100554|     -125.0|\n",
      "|EZE00100082|     -130.0|\n",
      "|ITE00100554|      -46.0|\n",
      "|EZE00100082|      -73.0|\n",
      "|ITE00100554|      -13.0|\n",
      "|EZE00100082|      -74.0|\n",
      "|ITE00100554|       -6.0|\n",
      "|EZE00100082|      -58.0|\n",
      "|ITE00100554|       13.0|\n",
      "|EZE00100082|      -57.0|\n",
      "|ITE00100554|       10.0|\n",
      "|EZE00100082|      -50.0|\n",
      "|ITE00100554|       14.0|\n",
      "|EZE00100082|      -31.0|\n",
      "|ITE00100554|       23.0|\n",
      "|EZE00100082|      -46.0|\n",
      "|ITE00100554|       31.0|\n",
      "|EZE00100082|      -75.0|\n",
      "+-----------+-----------+\n",
      "only showing top 20 rows\n",
      "\n"
     ]
    }
   ],
   "source": [
    "station_temp.show()"
   ],
   "metadata": {
    "collapsed": false,
    "ExecuteTime": {
     "end_time": "2023-07-04T14:29:01.230586Z",
     "start_time": "2023-07-04T14:29:01.092154Z"
    }
   }
  },
  {
   "cell_type": "code",
   "execution_count": 60,
   "outputs": [],
   "source": [
    "results = min_temp_by_station.collect()"
   ],
   "metadata": {
    "collapsed": false,
    "ExecuteTime": {
     "end_time": "2023-07-04T14:29:26.243009Z",
     "start_time": "2023-07-04T14:29:26.048847Z"
    }
   }
  },
  {
   "cell_type": "code",
   "execution_count": 65,
   "outputs": [
    {
     "name": "stdout",
     "output_type": "stream",
     "text": [
      "ITE00100554 -148.0\n",
      "EZE00100082 -135.0\n"
     ]
    }
   ],
   "source": [
    "for result in results:\n",
    "    print(result[0],result[1])"
   ],
   "metadata": {
    "collapsed": false,
    "ExecuteTime": {
     "end_time": "2023-07-04T14:30:16.107441Z",
     "start_time": "2023-07-04T14:30:16.094920Z"
    }
   }
  },
  {
   "cell_type": "code",
   "execution_count": 66,
   "outputs": [],
   "source": [
    "df.createOrReplaceTempView(\"station1800\")\n"
   ],
   "metadata": {
    "collapsed": false,
    "ExecuteTime": {
     "end_time": "2023-07-04T14:30:36.870146Z",
     "start_time": "2023-07-04T14:30:36.843016Z"
    }
   }
  },
  {
   "cell_type": "code",
   "execution_count": 75,
   "outputs": [
    {
     "name": "stdout",
     "output_type": "stream",
     "text": [
      "+-----------+------+\n",
      "|  stationID|   min|\n",
      "+-----------+------+\n",
      "|ITE00100554|-148.0|\n",
      "|EZE00100082|-135.0|\n",
      "+-----------+------+\n",
      "\n"
     ]
    }
   ],
   "source": [
    "sql_results = spark.sql(\"\"\"\n",
    "SELECT stationID, MIN(temperature) min\n",
    "FROM station1800\n",
    "WHERE measure_type = 'TMIN'\n",
    "GROUP BY 1\"\"\")\n",
    "sql_results.show()"
   ],
   "metadata": {
    "collapsed": false,
    "ExecuteTime": {
     "end_time": "2023-07-04T14:40:00.541700Z",
     "start_time": "2023-07-04T14:40:00.305235Z"
    }
   }
  },
  {
   "cell_type": "code",
   "execution_count": 69,
   "outputs": [],
   "source": [
    "my_result = sql_results.collect()"
   ],
   "metadata": {
    "collapsed": false,
    "ExecuteTime": {
     "end_time": "2023-07-04T14:31:45.692690Z",
     "start_time": "2023-07-04T14:31:45.501582Z"
    }
   }
  },
  {
   "cell_type": "code",
   "execution_count": 71,
   "outputs": [
    {
     "name": "stdout",
     "output_type": "stream",
     "text": [
      "ITE00100554 -148.0\n",
      "EZE00100082 -135.0\n"
     ]
    }
   ],
   "source": [
    "for i in my_result:\n",
    "\n",
    "    print(i[0],i[1])"
   ],
   "metadata": {
    "collapsed": false,
    "ExecuteTime": {
     "end_time": "2023-07-04T14:32:01.993524Z",
     "start_time": "2023-07-04T14:32:01.984153Z"
    }
   }
  },
  {
   "cell_type": "markdown",
   "source": [],
   "metadata": {
    "collapsed": false
   }
  },
  {
   "cell_type": "markdown",
   "source": [],
   "metadata": {
    "collapsed": false
   }
  }
 ],
 "metadata": {
  "kernelspec": {
   "display_name": "Python 3",
   "language": "python",
   "name": "python3"
  },
  "language_info": {
   "codemirror_mode": {
    "name": "ipython",
    "version": 2
   },
   "file_extension": ".py",
   "mimetype": "text/x-python",
   "name": "python",
   "nbconvert_exporter": "python",
   "pygments_lexer": "ipython2",
   "version": "2.7.6"
  }
 },
 "nbformat": 4,
 "nbformat_minor": 0
}

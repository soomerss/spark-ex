{
 "cells": [
  {
   "cell_type": "code",
   "execution_count": 2,
   "metadata": {
    "collapsed": true,
    "ExecuteTime": {
     "end_time": "2023-07-04T15:55:43.442792Z",
     "start_time": "2023-07-04T15:55:42.068399Z"
    }
   },
   "outputs": [
    {
     "name": "stdout",
     "output_type": "stream",
     "text": [
      "--2023-07-05 00:55:42--  https://s3-geospatial.s3-us-west-2.amazonaws.com/customer-orders.csv\r\n",
      "Resolving s3-geospatial.s3-us-west-2.amazonaws.com (s3-geospatial.s3-us-west-2.amazonaws.com)... 52.92.248.226, 52.218.247.2, 52.218.182.89, ...\r\n",
      "Connecting to s3-geospatial.s3-us-west-2.amazonaws.com (s3-geospatial.s3-us-west-2.amazonaws.com)|52.92.248.226|:443... connected.\r\n",
      "HTTP request sent, awaiting response... 200 OK\r\n",
      "Length: 146855 (143K) [text/csv]\r\n",
      "Saving to: ‘customer-orders.csv.2’\r\n",
      "\r\n",
      "customer-orders.csv 100%[===================>] 143.41K   434KB/s    in 0.3s    \r\n",
      "\r\n",
      "2023-07-05 00:55:43 (434 KB/s) - ‘customer-orders.csv.2’ saved [146855/146855]\r\n",
      "\r\n"
     ]
    }
   ],
   "source": [
    "!wget https://s3-geospatial.s3-us-west-2.amazonaws.com/customer-orders.csv\n"
   ]
  },
  {
   "cell_type": "code",
   "execution_count": 1,
   "outputs": [
    {
     "name": "stderr",
     "output_type": "stream",
     "text": [
      "Setting default log level to \"WARN\".\n",
      "To adjust logging level use sc.setLogLevel(newLevel). For SparkR, use setLogLevel(newLevel).\n"
     ]
    },
    {
     "name": "stdout",
     "output_type": "stream",
     "text": [
      "23/07/05 01:18:36 WARN NativeCodeLoader: Unable to load native-hadoop library for your platform... using builtin-java classes where applicable\n",
      "23/07/05 01:18:36 WARN Utils: Service 'SparkUI' could not bind on port 4040. Attempting port 4041.\n"
     ]
    }
   ],
   "source": [
    "from pyspark.sql import SparkSession\n",
    "\n",
    "spark = SparkSession.builder\\\n",
    "    .master('local[*]')\\\n",
    "    .appName('pyspark_22')\\\n",
    "    .getOrCreate()"
   ],
   "metadata": {
    "collapsed": false,
    "ExecuteTime": {
     "end_time": "2023-07-04T16:18:37.585682Z",
     "start_time": "2023-07-04T16:18:33.564120Z"
    }
   }
  },
  {
   "cell_type": "code",
   "execution_count": 2,
   "outputs": [],
   "source": [
    "my_df = spark.read.csv('customer-orders.csv')"
   ],
   "metadata": {
    "collapsed": false,
    "ExecuteTime": {
     "end_time": "2023-07-04T16:19:48.421307Z",
     "start_time": "2023-07-04T16:19:43.269718Z"
    }
   }
  },
  {
   "cell_type": "code",
   "execution_count": 6,
   "outputs": [],
   "source": [
    "from pyspark.sql import functions as func\n",
    "from pyspark.sql.types import StructType,StructField,StringType, FloatType\n",
    "\n",
    "schema = StructType([\\\n",
    "    StructField(\"cust_id\",StringType(),True),\\\n",
    "    StructField(\"item_id\",StringType(),True),\\\n",
    "    StructField(\"amount_spent\",FloatType(),True)])\n",
    "\n",
    "my_df = spark.read.schema(schema).csv('customer-orders.csv')\n"
   ],
   "metadata": {
    "collapsed": false,
    "ExecuteTime": {
     "end_time": "2023-07-04T16:33:07.760771Z",
     "start_time": "2023-07-04T16:33:07.670556Z"
    }
   }
  },
  {
   "cell_type": "code",
   "execution_count": 7,
   "outputs": [
    {
     "name": "stdout",
     "output_type": "stream",
     "text": [
      "root\n",
      " |-- cust_id: string (nullable = true)\n",
      " |-- item_id: string (nullable = true)\n",
      " |-- amount_spent: float (nullable = true)\n",
      "\n"
     ]
    }
   ],
   "source": [
    "my_df.printSchema()"
   ],
   "metadata": {
    "collapsed": false,
    "ExecuteTime": {
     "end_time": "2023-07-04T16:33:15.217931Z",
     "start_time": "2023-07-04T16:33:15.210566Z"
    }
   }
  },
  {
   "cell_type": "code",
   "execution_count": 8,
   "outputs": [],
   "source": [
    "df_ca = my_df.groupby('cust_id').sum('amount_spent')"
   ],
   "metadata": {
    "collapsed": false,
    "ExecuteTime": {
     "end_time": "2023-07-04T16:33:39.421445Z",
     "start_time": "2023-07-04T16:33:39.371872Z"
    }
   }
  },
  {
   "cell_type": "code",
   "execution_count": 12,
   "outputs": [],
   "source": [
    "df_ca = my_df.groupby('cust_id').sum('amount_spent').withColumnRenamed(\"sum(amount_spent)\",\"sum\")"
   ],
   "metadata": {
    "collapsed": false,
    "ExecuteTime": {
     "end_time": "2023-07-04T16:34:58.571147Z",
     "start_time": "2023-07-04T16:34:58.521035Z"
    }
   }
  },
  {
   "cell_type": "code",
   "execution_count": 20,
   "outputs": [],
   "source": [
    "df_ca = my_df.groupby('cust_id').agg(func.sum('amount_spent').alias('sum'))"
   ],
   "metadata": {
    "collapsed": false,
    "ExecuteTime": {
     "end_time": "2023-07-04T16:39:09.188401Z",
     "start_time": "2023-07-04T16:39:09.137710Z"
    }
   }
  },
  {
   "cell_type": "code",
   "execution_count": 21,
   "outputs": [
    {
     "name": "stdout",
     "output_type": "stream",
     "text": [
      "+-------+-----------------+\n",
      "|cust_id|              sum|\n",
      "+-------+-----------------+\n",
      "|     51|4975.219970226288|\n",
      "|      7|4755.070008277893|\n",
      "|     15|5413.510010659695|\n",
      "|     54|6065.390002984554|\n",
      "|     11|5152.289969373494|\n",
      "+-------+-----------------+\n",
      "only showing top 5 rows\n",
      "\n"
     ]
    }
   ],
   "source": [
    "df_ca.show(5)"
   ],
   "metadata": {
    "collapsed": false,
    "ExecuteTime": {
     "end_time": "2023-07-04T16:39:11.419606Z",
     "start_time": "2023-07-04T16:39:10.814417Z"
    }
   }
  },
  {
   "cell_type": "code",
   "execution_count": 24,
   "outputs": [],
   "source": [
    "df_da = my_df.groupby('cust_id')\\\n",
    "    .agg(\n",
    "    func.sum('amount_spent').alias('sum'),\n",
    "    func.max('amount_spent').alias('max'),\n",
    "    func.min('amount_spent').alias('min')\n",
    ")"
   ],
   "metadata": {
    "collapsed": false,
    "ExecuteTime": {
     "end_time": "2023-07-04T16:40:57.331407Z",
     "start_time": "2023-07-04T16:40:57.285300Z"
    }
   }
  },
  {
   "cell_type": "code",
   "execution_count": 26,
   "outputs": [],
   "source": [
    "my_df.createOrReplaceTempView('customer_order')"
   ],
   "metadata": {
    "collapsed": false,
    "ExecuteTime": {
     "end_time": "2023-07-04T16:41:54.725527Z",
     "start_time": "2023-07-04T16:41:54.520658Z"
    }
   }
  },
  {
   "cell_type": "code",
   "execution_count": 28,
   "outputs": [],
   "source": [
    "my_sql = spark.sql(\"\"\"\n",
    "SELECT cust_id, SUM(amount_spent) sum, MAX(amount_spent) max, AVG(amount_spent) avg\n",
    "FROM customer_order\n",
    "GROUP BY cust_id\n",
    "\"\"\")"
   ],
   "metadata": {
    "collapsed": false,
    "ExecuteTime": {
     "end_time": "2023-07-04T16:43:02.256460Z",
     "start_time": "2023-07-04T16:43:02.148876Z"
    }
   }
  },
  {
   "cell_type": "code",
   "execution_count": 31,
   "outputs": [
    {
     "data": {
      "text/plain": "[Table(name='customer_order', database=None, description=None, tableType='TEMPORARY', isTemporary=True)]"
     },
     "execution_count": 31,
     "metadata": {},
     "output_type": "execute_result"
    }
   ],
   "source": [
    "spark.catalog.listTables()"
   ],
   "metadata": {
    "collapsed": false,
    "ExecuteTime": {
     "end_time": "2023-07-04T16:43:41.351125Z",
     "start_time": "2023-07-04T16:43:40.640709Z"
    }
   }
  },
  {
   "cell_type": "code",
   "execution_count": 1,
   "outputs": [
    {
     "name": "stdout",
     "output_type": "stream",
     "text": [
      "heeo\n"
     ]
    }
   ],
   "source": [
    "print('heeo')"
   ],
   "metadata": {
    "collapsed": false,
    "ExecuteTime": {
     "end_time": "2023-07-04T15:55:36.752929Z",
     "start_time": "2023-07-04T15:55:36.748631Z"
    }
   }
  },
  {
   "cell_type": "code",
   "execution_count": 15,
   "outputs": [
    {
     "name": "stdout",
     "output_type": "stream",
     "text": [
      "/Users/giho.han/Library/Java/JavaVirtualMachines/corretto-17.0.7/Contents/Home\n"
     ]
    }
   ],
   "source": [
    "import os\n",
    "\n",
    "print(os.environ[\"JAVA_HOME\"])"
   ],
   "metadata": {
    "collapsed": false,
    "ExecuteTime": {
     "end_time": "2023-07-04T15:33:09.041517Z",
     "start_time": "2023-07-04T15:33:09.039202Z"
    }
   }
  }
 ],
 "metadata": {
  "kernelspec": {
   "display_name": "Python 3",
   "language": "python",
   "name": "python3"
  },
  "language_info": {
   "codemirror_mode": {
    "name": "ipython",
    "version": 2
   },
   "file_extension": ".py",
   "mimetype": "text/x-python",
   "name": "python",
   "nbconvert_exporter": "python",
   "pygments_lexer": "ipython2",
   "version": "2.7.6"
  }
 },
 "nbformat": 4,
 "nbformat_minor": 0
}

{
 "cells": [
  {
   "cell_type": "code",
   "execution_count": 4,
   "metadata": {
    "collapsed": true,
    "ExecuteTime": {
     "end_time": "2023-07-04T18:01:05.965286Z",
     "start_time": "2023-07-04T18:01:03.833125Z"
    }
   },
   "outputs": [
    {
     "name": "stdout",
     "output_type": "stream",
     "text": [
      "--2023-07-05 03:01:03--  https://s3.amazonaws.com/redshift-downloads/drivers/jdbc/2.1.0.14/redshift-jdbc42-2.1.0.14.jar\r\n",
      "Resolving s3.amazonaws.com (s3.amazonaws.com)... 52.216.146.197, 52.217.196.80, 54.231.133.56, ...\r\n",
      "Connecting to s3.amazonaws.com (s3.amazonaws.com)|52.216.146.197|:443... connected.\r\n",
      "HTTP request sent, awaiting response... 200 OK\r\n",
      "Length: 1048241 (1024K) [binary/octet-stream]\r\n",
      "Saving to: ‘redshift-jdbc42-2.1.0.14.jar’\r\n",
      "\r\n",
      "redshift-jdbc42-2.1 100%[===================>]   1024K  1007KB/s    in 1.0s    \r\n",
      "\r\n",
      "2023-07-05 03:01:05 (1007 KB/s) - ‘redshift-jdbc42-2.1.0.14.jar’ saved [1048241/1048241]\r\n",
      "\r\n"
     ]
    }
   ],
   "source": [
    "# !cd venv/lib/python3.9/site-packages/pyspark/jars && wget https://s3.amazonaws.com/redshift-downloads/drivers/jdbc/1.2.20.1043/RedshiftJDBC42-no-awssdk-1.2.20.1043.jar  /Users/giho.han/PycharmProjects/pyspark_ex/venv/lib/python3.9/site-packages/pyspark/jars\n",
    "!cd venv/lib/python3.9/site-packages/pyspark/jars && wget https://s3.amazonaws.com/redshift-downloads/drivers/jdbc/2.1.0.14/redshift-jdbc42-2.1.0.14.jar"
   ]
  },
  {
   "cell_type": "code",
   "execution_count": 1,
   "outputs": [
    {
     "name": "stderr",
     "output_type": "stream",
     "text": [
      "Setting default log level to \"WARN\".\n",
      "To adjust logging level use sc.setLogLevel(newLevel). For SparkR, use setLogLevel(newLevel).\n"
     ]
    },
    {
     "name": "stdout",
     "output_type": "stream",
     "text": [
      "23/07/05 17:09:05 WARN NativeCodeLoader: Unable to load native-hadoop library for your platform... using builtin-java classes where applicable\n"
     ]
    }
   ],
   "source": [
    "from pyspark.sql import SparkSession\n",
    "from pyspark import SparkConf\n",
    "\n",
    "conf = SparkConf()\n",
    "conf.set('spark.app.name','pyspark-redshift')\n",
    "conf.set('spark.master','local[*]')\n",
    "\n",
    "spark = SparkSession.builder\\\n",
    "    .config(conf=conf)\\\n",
    "    .getOrCreate()"
   ],
   "metadata": {
    "collapsed": false,
    "ExecuteTime": {
     "end_time": "2023-07-05T08:09:07.030262Z",
     "start_time": "2023-07-05T08:09:03.010214Z"
    }
   }
  },
  {
   "cell_type": "code",
   "execution_count": 3,
   "outputs": [
    {
     "ename": "Py4JJavaError",
     "evalue": "An error occurred while calling o26.get.\n: java.util.NoSuchElementException: spark.jars\n\tat org.apache.spark.sql.errors.QueryExecutionErrors$.noSuchElementExceptionError(QueryExecutionErrors.scala:1678)\n\tat org.apache.spark.sql.internal.SQLConf.$anonfun$getConfString$3(SQLConf.scala:4577)\n\tat scala.Option.getOrElse(Option.scala:189)\n\tat org.apache.spark.sql.internal.SQLConf.getConfString(SQLConf.scala:4577)\n\tat org.apache.spark.sql.RuntimeConfig.get(RuntimeConfig.scala:72)\n\tat java.base/jdk.internal.reflect.NativeMethodAccessorImpl.invoke0(Native Method)\n\tat java.base/jdk.internal.reflect.NativeMethodAccessorImpl.invoke(NativeMethodAccessorImpl.java:77)\n\tat java.base/jdk.internal.reflect.DelegatingMethodAccessorImpl.invoke(DelegatingMethodAccessorImpl.java:43)\n\tat java.base/java.lang.reflect.Method.invoke(Method.java:568)\n\tat py4j.reflection.MethodInvoker.invoke(MethodInvoker.java:244)\n\tat py4j.reflection.ReflectionEngine.invoke(ReflectionEngine.java:357)\n\tat py4j.Gateway.invoke(Gateway.java:282)\n\tat py4j.commands.AbstractCommand.invokeMethod(AbstractCommand.java:132)\n\tat py4j.commands.CallCommand.execute(CallCommand.java:79)\n\tat py4j.ClientServerConnection.waitForCommands(ClientServerConnection.java:182)\n\tat py4j.ClientServerConnection.run(ClientServerConnection.java:106)\n\tat java.base/java.lang.Thread.run(Thread.java:833)\n",
     "output_type": "error",
     "traceback": [
      "\u001B[0;31m---------------------------------------------------------------------------\u001B[0m",
      "\u001B[0;31mPy4JJavaError\u001B[0m                             Traceback (most recent call last)",
      "Cell \u001B[0;32mIn[3], line 1\u001B[0m\n\u001B[0;32m----> 1\u001B[0m \u001B[43mspark\u001B[49m\u001B[38;5;241;43m.\u001B[39;49m\u001B[43mconf\u001B[49m\u001B[38;5;241;43m.\u001B[39;49m\u001B[43mget\u001B[49m\u001B[43m(\u001B[49m\u001B[38;5;124;43m'\u001B[39;49m\u001B[38;5;124;43mspark.jars\u001B[39;49m\u001B[38;5;124;43m'\u001B[39;49m\u001B[43m)\u001B[49m\n",
      "File \u001B[0;32m~/PycharmProjects/pyspark_ex/venv/lib/python3.9/site-packages/pyspark/sql/conf.py:49\u001B[0m, in \u001B[0;36mRuntimeConfig.get\u001B[0;34m(self, key, default)\u001B[0m\n\u001B[1;32m     47\u001B[0m \u001B[38;5;28mself\u001B[39m\u001B[38;5;241m.\u001B[39m_checkType(key, \u001B[38;5;124m\"\u001B[39m\u001B[38;5;124mkey\u001B[39m\u001B[38;5;124m\"\u001B[39m)\n\u001B[1;32m     48\u001B[0m \u001B[38;5;28;01mif\u001B[39;00m default \u001B[38;5;129;01mis\u001B[39;00m _NoValue:\n\u001B[0;32m---> 49\u001B[0m     \u001B[38;5;28;01mreturn\u001B[39;00m \u001B[38;5;28;43mself\u001B[39;49m\u001B[38;5;241;43m.\u001B[39;49m\u001B[43m_jconf\u001B[49m\u001B[38;5;241;43m.\u001B[39;49m\u001B[43mget\u001B[49m\u001B[43m(\u001B[49m\u001B[43mkey\u001B[49m\u001B[43m)\u001B[49m\n\u001B[1;32m     50\u001B[0m \u001B[38;5;28;01melse\u001B[39;00m:\n\u001B[1;32m     51\u001B[0m     \u001B[38;5;28;01mif\u001B[39;00m default \u001B[38;5;129;01mis\u001B[39;00m \u001B[38;5;129;01mnot\u001B[39;00m \u001B[38;5;28;01mNone\u001B[39;00m:\n",
      "File \u001B[0;32m~/PycharmProjects/pyspark_ex/venv/lib/python3.9/site-packages/py4j/java_gateway.py:1321\u001B[0m, in \u001B[0;36mJavaMember.__call__\u001B[0;34m(self, *args)\u001B[0m\n\u001B[1;32m   1315\u001B[0m command \u001B[38;5;241m=\u001B[39m proto\u001B[38;5;241m.\u001B[39mCALL_COMMAND_NAME \u001B[38;5;241m+\u001B[39m\\\n\u001B[1;32m   1316\u001B[0m     \u001B[38;5;28mself\u001B[39m\u001B[38;5;241m.\u001B[39mcommand_header \u001B[38;5;241m+\u001B[39m\\\n\u001B[1;32m   1317\u001B[0m     args_command \u001B[38;5;241m+\u001B[39m\\\n\u001B[1;32m   1318\u001B[0m     proto\u001B[38;5;241m.\u001B[39mEND_COMMAND_PART\n\u001B[1;32m   1320\u001B[0m answer \u001B[38;5;241m=\u001B[39m \u001B[38;5;28mself\u001B[39m\u001B[38;5;241m.\u001B[39mgateway_client\u001B[38;5;241m.\u001B[39msend_command(command)\n\u001B[0;32m-> 1321\u001B[0m return_value \u001B[38;5;241m=\u001B[39m \u001B[43mget_return_value\u001B[49m\u001B[43m(\u001B[49m\n\u001B[1;32m   1322\u001B[0m \u001B[43m    \u001B[49m\u001B[43manswer\u001B[49m\u001B[43m,\u001B[49m\u001B[43m \u001B[49m\u001B[38;5;28;43mself\u001B[39;49m\u001B[38;5;241;43m.\u001B[39;49m\u001B[43mgateway_client\u001B[49m\u001B[43m,\u001B[49m\u001B[43m \u001B[49m\u001B[38;5;28;43mself\u001B[39;49m\u001B[38;5;241;43m.\u001B[39;49m\u001B[43mtarget_id\u001B[49m\u001B[43m,\u001B[49m\u001B[43m \u001B[49m\u001B[38;5;28;43mself\u001B[39;49m\u001B[38;5;241;43m.\u001B[39;49m\u001B[43mname\u001B[49m\u001B[43m)\u001B[49m\n\u001B[1;32m   1324\u001B[0m \u001B[38;5;28;01mfor\u001B[39;00m temp_arg \u001B[38;5;129;01min\u001B[39;00m temp_args:\n\u001B[1;32m   1325\u001B[0m     temp_arg\u001B[38;5;241m.\u001B[39m_detach()\n",
      "File \u001B[0;32m~/PycharmProjects/pyspark_ex/venv/lib/python3.9/site-packages/pyspark/sql/utils.py:190\u001B[0m, in \u001B[0;36mcapture_sql_exception.<locals>.deco\u001B[0;34m(*a, **kw)\u001B[0m\n\u001B[1;32m    188\u001B[0m \u001B[38;5;28;01mdef\u001B[39;00m \u001B[38;5;21mdeco\u001B[39m(\u001B[38;5;241m*\u001B[39ma: Any, \u001B[38;5;241m*\u001B[39m\u001B[38;5;241m*\u001B[39mkw: Any) \u001B[38;5;241m-\u001B[39m\u001B[38;5;241m>\u001B[39m Any:\n\u001B[1;32m    189\u001B[0m     \u001B[38;5;28;01mtry\u001B[39;00m:\n\u001B[0;32m--> 190\u001B[0m         \u001B[38;5;28;01mreturn\u001B[39;00m \u001B[43mf\u001B[49m\u001B[43m(\u001B[49m\u001B[38;5;241;43m*\u001B[39;49m\u001B[43ma\u001B[49m\u001B[43m,\u001B[49m\u001B[43m \u001B[49m\u001B[38;5;241;43m*\u001B[39;49m\u001B[38;5;241;43m*\u001B[39;49m\u001B[43mkw\u001B[49m\u001B[43m)\u001B[49m\n\u001B[1;32m    191\u001B[0m     \u001B[38;5;28;01mexcept\u001B[39;00m Py4JJavaError \u001B[38;5;28;01mas\u001B[39;00m e:\n\u001B[1;32m    192\u001B[0m         converted \u001B[38;5;241m=\u001B[39m convert_exception(e\u001B[38;5;241m.\u001B[39mjava_exception)\n",
      "File \u001B[0;32m~/PycharmProjects/pyspark_ex/venv/lib/python3.9/site-packages/py4j/protocol.py:326\u001B[0m, in \u001B[0;36mget_return_value\u001B[0;34m(answer, gateway_client, target_id, name)\u001B[0m\n\u001B[1;32m    324\u001B[0m value \u001B[38;5;241m=\u001B[39m OUTPUT_CONVERTER[\u001B[38;5;28mtype\u001B[39m](answer[\u001B[38;5;241m2\u001B[39m:], gateway_client)\n\u001B[1;32m    325\u001B[0m \u001B[38;5;28;01mif\u001B[39;00m answer[\u001B[38;5;241m1\u001B[39m] \u001B[38;5;241m==\u001B[39m REFERENCE_TYPE:\n\u001B[0;32m--> 326\u001B[0m     \u001B[38;5;28;01mraise\u001B[39;00m Py4JJavaError(\n\u001B[1;32m    327\u001B[0m         \u001B[38;5;124m\"\u001B[39m\u001B[38;5;124mAn error occurred while calling \u001B[39m\u001B[38;5;132;01m{0}\u001B[39;00m\u001B[38;5;132;01m{1}\u001B[39;00m\u001B[38;5;132;01m{2}\u001B[39;00m\u001B[38;5;124m.\u001B[39m\u001B[38;5;130;01m\\n\u001B[39;00m\u001B[38;5;124m\"\u001B[39m\u001B[38;5;241m.\u001B[39m\n\u001B[1;32m    328\u001B[0m         \u001B[38;5;28mformat\u001B[39m(target_id, \u001B[38;5;124m\"\u001B[39m\u001B[38;5;124m.\u001B[39m\u001B[38;5;124m\"\u001B[39m, name), value)\n\u001B[1;32m    329\u001B[0m \u001B[38;5;28;01melse\u001B[39;00m:\n\u001B[1;32m    330\u001B[0m     \u001B[38;5;28;01mraise\u001B[39;00m Py4JError(\n\u001B[1;32m    331\u001B[0m         \u001B[38;5;124m\"\u001B[39m\u001B[38;5;124mAn error occurred while calling \u001B[39m\u001B[38;5;132;01m{0}\u001B[39;00m\u001B[38;5;132;01m{1}\u001B[39;00m\u001B[38;5;132;01m{2}\u001B[39;00m\u001B[38;5;124m. Trace:\u001B[39m\u001B[38;5;130;01m\\n\u001B[39;00m\u001B[38;5;132;01m{3}\u001B[39;00m\u001B[38;5;130;01m\\n\u001B[39;00m\u001B[38;5;124m\"\u001B[39m\u001B[38;5;241m.\u001B[39m\n\u001B[1;32m    332\u001B[0m         \u001B[38;5;28mformat\u001B[39m(target_id, \u001B[38;5;124m\"\u001B[39m\u001B[38;5;124m.\u001B[39m\u001B[38;5;124m\"\u001B[39m, name, value))\n",
      "\u001B[0;31mPy4JJavaError\u001B[0m: An error occurred while calling o26.get.\n: java.util.NoSuchElementException: spark.jars\n\tat org.apache.spark.sql.errors.QueryExecutionErrors$.noSuchElementExceptionError(QueryExecutionErrors.scala:1678)\n\tat org.apache.spark.sql.internal.SQLConf.$anonfun$getConfString$3(SQLConf.scala:4577)\n\tat scala.Option.getOrElse(Option.scala:189)\n\tat org.apache.spark.sql.internal.SQLConf.getConfString(SQLConf.scala:4577)\n\tat org.apache.spark.sql.RuntimeConfig.get(RuntimeConfig.scala:72)\n\tat java.base/jdk.internal.reflect.NativeMethodAccessorImpl.invoke0(Native Method)\n\tat java.base/jdk.internal.reflect.NativeMethodAccessorImpl.invoke(NativeMethodAccessorImpl.java:77)\n\tat java.base/jdk.internal.reflect.DelegatingMethodAccessorImpl.invoke(DelegatingMethodAccessorImpl.java:43)\n\tat java.base/java.lang.reflect.Method.invoke(Method.java:568)\n\tat py4j.reflection.MethodInvoker.invoke(MethodInvoker.java:244)\n\tat py4j.reflection.ReflectionEngine.invoke(ReflectionEngine.java:357)\n\tat py4j.Gateway.invoke(Gateway.java:282)\n\tat py4j.commands.AbstractCommand.invokeMethod(AbstractCommand.java:132)\n\tat py4j.commands.CallCommand.execute(CallCommand.java:79)\n\tat py4j.ClientServerConnection.waitForCommands(ClientServerConnection.java:182)\n\tat py4j.ClientServerConnection.run(ClientServerConnection.java:106)\n\tat java.base/java.lang.Thread.run(Thread.java:833)\n"
     ]
    }
   ],
   "source": [
    "spark.conf.get('spark.jars')"
   ],
   "metadata": {
    "collapsed": false,
    "ExecuteTime": {
     "end_time": "2023-07-05T08:09:09.391010Z",
     "start_time": "2023-07-05T08:09:09.333138Z"
    }
   }
  },
  {
   "cell_type": "code",
   "execution_count": null,
   "outputs": [],
   "source": [],
   "metadata": {
    "collapsed": false
   }
  },
  {
   "cell_type": "code",
   "execution_count": 4,
   "outputs": [],
   "source": [
    "df_user_session_channel = spark.read \\\n",
    "    .format(\"jdbc\") \\\n",
    "    .option(\"driver\", \"com.amazon.redshift.jdbc42.Driver\") \\\n",
    "    .option(\"url\", \"jdbc:redshift://learnde.cduaw970ssvt.ap-northeast-2.redshift.amazonaws.com:5439/dev?user=guest&password=Guest1234\") \\\n",
    "    .option(\"dbtable\", \"raw_data.user_session_channel\") \\\n",
    "    .load()"
   ],
   "metadata": {
    "collapsed": false,
    "ExecuteTime": {
     "end_time": "2023-07-05T08:09:14.074823Z",
     "start_time": "2023-07-05T08:09:11.573908Z"
    }
   }
  },
  {
   "cell_type": "code",
   "execution_count": 5,
   "outputs": [],
   "source": [
    "df_session_timestamp = spark.read \\\n",
    "    .format(\"jdbc\") \\\n",
    "    .option(\"driver\", \"com.amazon.redshift.jdbc42.Driver\") \\\n",
    "    .option(\"url\", \"jdbc:redshift://learnde.cduaw970ssvt.ap-northeast-2.redshift.amazonaws.com:5439/dev?user=guest&password=Guest1234\") \\\n",
    "    .option(\"dbtable\", \"raw_data.session_timestamp\") \\\n",
    "    .load()\n"
   ],
   "metadata": {
    "collapsed": false,
    "ExecuteTime": {
     "end_time": "2023-07-05T08:23:03.938515Z",
     "start_time": "2023-07-05T08:23:03.624299Z"
    }
   }
  },
  {
   "cell_type": "code",
   "execution_count": 6,
   "outputs": [
    {
     "data": {
      "text/plain": "1"
     },
     "execution_count": 6,
     "metadata": {},
     "output_type": "execute_result"
    }
   ],
   "source": [
    "df_user_session_channel.rdd.getNumPartitions()"
   ],
   "metadata": {
    "collapsed": false,
    "ExecuteTime": {
     "end_time": "2023-07-05T08:23:12.296784Z",
     "start_time": "2023-07-05T08:23:11.484021Z"
    }
   }
  },
  {
   "cell_type": "code",
   "execution_count": 7,
   "outputs": [
    {
     "name": "stdout",
     "output_type": "stream",
     "text": [
      "root\n",
      " |-- userid: integer (nullable = true)\n",
      " |-- sessionid: string (nullable = true)\n",
      " |-- channel: string (nullable = true)\n",
      "\n"
     ]
    }
   ],
   "source": [
    "df_user_session_channel.printSchema()"
   ],
   "metadata": {
    "collapsed": false,
    "ExecuteTime": {
     "end_time": "2023-07-05T08:23:22.752081Z",
     "start_time": "2023-07-05T08:23:22.745829Z"
    }
   }
  },
  {
   "cell_type": "code",
   "execution_count": 8,
   "outputs": [
    {
     "data": {
      "text/plain": "1"
     },
     "execution_count": 8,
     "metadata": {},
     "output_type": "execute_result"
    }
   ],
   "source": [
    "df_user_session_channel.rdd.getNumPartitions()"
   ],
   "metadata": {
    "collapsed": false,
    "ExecuteTime": {
     "end_time": "2023-07-05T08:23:49.058753Z",
     "start_time": "2023-07-05T08:23:49.053984Z"
    }
   }
  },
  {
   "cell_type": "code",
   "execution_count": 10,
   "outputs": [
    {
     "name": "stdout",
     "output_type": "stream",
     "text": [
      "root\n",
      " |-- sessionid: string (nullable = true)\n",
      " |-- ts: timestamp (nullable = true)\n",
      "\n"
     ]
    }
   ],
   "source": [
    "df_session_timestamp.printSchema()\n"
   ],
   "metadata": {
    "collapsed": false,
    "ExecuteTime": {
     "end_time": "2023-07-05T08:27:54.170405Z",
     "start_time": "2023-07-05T08:27:54.164949Z"
    }
   }
  },
  {
   "cell_type": "code",
   "execution_count": 11,
   "outputs": [
    {
     "data": {
      "text/plain": "1"
     },
     "execution_count": 11,
     "metadata": {},
     "output_type": "execute_result"
    }
   ],
   "source": [
    "df_session_timestamp.rdd.getNumPartitions()\n"
   ],
   "metadata": {
    "collapsed": false,
    "ExecuteTime": {
     "end_time": "2023-07-05T08:27:56.919943Z",
     "start_time": "2023-07-05T08:27:56.777205Z"
    }
   }
  },
  {
   "cell_type": "code",
   "execution_count": 12,
   "outputs": [],
   "source": [
    "join_expr = df_user_session_channel.sessionid == df_session_timestamp.sessionid\n",
    "session_df = df_user_session_channel.join(df_session_timestamp, join_expr, \"inner\")"
   ],
   "metadata": {
    "collapsed": false,
    "ExecuteTime": {
     "end_time": "2023-07-05T08:28:28.311958Z",
     "start_time": "2023-07-05T08:28:28.211619Z"
    }
   }
  },
  {
   "cell_type": "code",
   "execution_count": 13,
   "outputs": [
    {
     "name": "stderr",
     "output_type": "stream",
     "text": [
      "                                                                                \r"
     ]
    },
    {
     "name": "stdout",
     "output_type": "stream",
     "text": [
      "+------+--------------------+---------+--------------------+--------------------+\n",
      "|userid|           sessionid|  channel|           sessionid|                  ts|\n",
      "+------+--------------------+---------+--------------------+--------------------+\n",
      "|   243|0226aa5193c66d990...|   Google|0226aa5193c66d990...|2019-07-01 23:04:...|\n",
      "|  2776|029bf49b584c641f0...| Facebook|029bf49b584c641f0...|2019-11-11 20:37:...|\n",
      "|   939|02b8d6c2775b756de...|   Google|02b8d6c2775b756de...|2019-09-01 15:29:...|\n",
      "|   771|02f6364bf207d6837...|    Naver|02f6364bf207d6837...|2019-09-07 18:24:...|\n",
      "|  2139|039cc47f960921e3c...|    Naver|039cc47f960921e3c...| 2019-08-01 18:19:34|\n",
      "|  1011|042152452a4794754...|Instagram|042152452a4794754...|2019-11-14 17:21:...|\n",
      "|  1387|05364757c1af38444...|  Organic|05364757c1af38444...| 2019-11-25 20:18:29|\n",
      "|  1501|0135456d6a3c1051f...|   Google|0135456d6a3c1051f...|2019-09-24 14:49:...|\n",
      "|   876|01a416a7e28d0d229...| Facebook|01a416a7e28d0d229...|2019-05-26 14:23:...|\n",
      "|  2133|02ea66ee24d57e285...|  Organic|02ea66ee24d57e285...| 2019-10-28 22:50:40|\n",
      "|  1961|0302915889fa38fe5...|  Youtube|0302915889fa38fe5...| 2019-11-29 15:16:49|\n",
      "|   599|03ce0331cbd983f16...|  Organic|03ce0331cbd983f16...|2019-07-18 13:49:...|\n",
      "|  1953|0472919f6bb6a2f7c...|  Organic|0472919f6bb6a2f7c...|2019-09-25 06:44:...|\n",
      "|  1119|053b800a27404b77a...|    Naver|053b800a27404b77a...| 2019-10-14 15:55:14|\n",
      "|  1789|059e95ce5b8e879e2...|Instagram|059e95ce5b8e879e2...|2019-09-12 10:47:...|\n",
      "|   750|05a7443b8ed8bbbd8...|Instagram|05a7443b8ed8bbbd8...|2019-10-13 21:44:...|\n",
      "|  1041|05c93d6a5840edf0b...| Facebook|05c93d6a5840edf0b...|2019-10-18 15:37:...|\n",
      "|  1251|06a9e26975cd3d805...|  Youtube|06a9e26975cd3d805...|2019-10-16 14:46:...|\n",
      "|  2383|06b993d01417d43f1...|    Naver|06b993d01417d43f1...|2019-11-05 18:11:...|\n",
      "|  2093|0718e1b4f6da9077d...|  Youtube|0718e1b4f6da9077d...| 2019-11-18 16:07:16|\n",
      "+------+--------------------+---------+--------------------+--------------------+\n",
      "only showing top 20 rows\n",
      "\n"
     ]
    }
   ],
   "source": [
    "session_df.show()"
   ],
   "metadata": {
    "collapsed": false,
    "ExecuteTime": {
     "end_time": "2023-07-05T08:28:44.953612Z",
     "start_time": "2023-07-05T08:28:40.163503Z"
    }
   }
  },
  {
   "cell_type": "code",
   "execution_count": 20,
   "outputs": [],
   "source": [
    "\n",
    "\n",
    "session_df = df_user_session_channel.join(df_session_timestamp,join_expr,\"inner\").select(\"userid\",df_user_session_channel.sessionid,\"channel\",\"ts\")\n",
    "\n",
    "\n"
   ],
   "metadata": {
    "collapsed": false,
    "ExecuteTime": {
     "end_time": "2023-07-05T08:37:13.006656Z",
     "start_time": "2023-07-05T08:37:12.943244Z"
    }
   }
  },
  {
   "cell_type": "code",
   "execution_count": 21,
   "outputs": [
    {
     "name": "stderr",
     "output_type": "stream",
     "text": [
      "                                                                                \r"
     ]
    },
    {
     "name": "stdout",
     "output_type": "stream",
     "text": [
      "+------+--------------------+---------+--------------------+\n",
      "|userid|           sessionid|  channel|                  ts|\n",
      "+------+--------------------+---------+--------------------+\n",
      "|  1501|0135456d6a3c1051f...|   Google|2019-09-24 14:49:...|\n",
      "|   876|01a416a7e28d0d229...| Facebook|2019-05-26 14:23:...|\n",
      "|  2776|029bf49b584c641f0...| Facebook|2019-11-11 20:37:...|\n",
      "|  2133|02ea66ee24d57e285...|  Organic| 2019-10-28 22:50:40|\n",
      "|  2139|039cc47f960921e3c...|    Naver| 2019-08-01 18:19:34|\n",
      "|   599|03ce0331cbd983f16...|  Organic|2019-07-18 13:49:...|\n",
      "|  1011|042152452a4794754...|Instagram|2019-11-14 17:21:...|\n",
      "|  1387|05364757c1af38444...|  Organic| 2019-11-25 20:18:29|\n",
      "|  1789|059e95ce5b8e879e2...|Instagram|2019-09-12 10:47:...|\n",
      "|  1251|06a9e26975cd3d805...|  Youtube|2019-10-16 14:46:...|\n",
      "|   264|0765933456f074d2c...|  Youtube|2019-05-05 17:55:...|\n",
      "|  1051|08aedba65ce091296...|    Naver|2019-08-09 17:30:...|\n",
      "|  1027|09eca040ba5cd8dfb...|   Google|2019-06-18 14:47:...|\n",
      "|   277|0bf0b26798f42e0ca...| Facebook|2019-06-20 15:38:...|\n",
      "|   117|0ccb9e1a760913793...|  Organic|2019-08-30 16:28:...|\n",
      "|  2578|0e3f3bc74c1be6370...|  Organic|2019-11-02 13:28:...|\n",
      "|   772|0f7d02ef57e42135d...|  Youtube|2019-10-20 16:33:...|\n",
      "|   473|1128689410a8e0420...|  Youtube| 2019-07-29 15:15:43|\n",
      "|   368|1301962d8b7bd03ff...|Instagram|2019-05-09 16:41:...|\n",
      "|  1221|13399d0c5bcad0de5...|   Google|2019-10-20 15:25:...|\n",
      "+------+--------------------+---------+--------------------+\n",
      "only showing top 20 rows\n",
      "\n"
     ]
    }
   ],
   "source": [
    "session_df.show()"
   ],
   "metadata": {
    "collapsed": false,
    "ExecuteTime": {
     "end_time": "2023-07-05T08:37:28.994135Z",
     "start_time": "2023-07-05T08:37:27.160114Z"
    }
   }
  },
  {
   "cell_type": "code",
   "execution_count": 11,
   "outputs": [],
   "source": [
    "from pyspark.sql import SparkSession\n",
    "\n",
    "spark = SparkSession.builder.getOrCreate()\n",
    "\n"
   ],
   "metadata": {
    "collapsed": false,
    "ExecuteTime": {
     "end_time": "2023-07-05T07:37:55.709422Z",
     "start_time": "2023-07-05T07:37:55.698044Z"
    }
   }
  },
  {
   "cell_type": "code",
   "execution_count": 22,
   "outputs": [
    {
     "name": "stderr",
     "output_type": "stream",
     "text": [
      "[Stage 17:>                                                         (0 + 3) / 3]\r"
     ]
    },
    {
     "name": "stdout",
     "output_type": "stream",
     "text": [
      "+-------+---+\n",
      "|  month|mau|\n",
      "+-------+---+\n",
      "|2019-05|281|\n",
      "|2019-06|459|\n",
      "|2019-07|623|\n",
      "|2019-08|662|\n",
      "|2019-09|639|\n",
      "|2019-10|763|\n",
      "|2019-11|721|\n",
      "+-------+---+\n",
      "\n"
     ]
    },
    {
     "name": "stderr",
     "output_type": "stream",
     "text": [
      "                                                                                \r"
     ]
    }
   ],
   "source": [
    "from pyspark.sql.functions import date_format,asc,countDistinct\n",
    "\n",
    "session_df.withColumn('month',date_format('ts','yyyy-MM')).groupby('month').\\\n",
    "    agg(countDistinct(\"userid\").alias('mau')).sort(asc('month')).show()"
   ],
   "metadata": {
    "collapsed": false,
    "ExecuteTime": {
     "end_time": "2023-07-05T08:39:53.879325Z",
     "start_time": "2023-07-05T08:39:50.225689Z"
    }
   }
  },
  {
   "cell_type": "code",
   "execution_count": 23,
   "outputs": [],
   "source": [
    "df_user_session_channel.createOrReplaceTempView('user_session_channel')\n"
   ],
   "metadata": {
    "collapsed": false,
    "ExecuteTime": {
     "end_time": "2023-07-05T08:41:03.700761Z",
     "start_time": "2023-07-05T08:41:03.600095Z"
    }
   }
  },
  {
   "cell_type": "code",
   "execution_count": 24,
   "outputs": [],
   "source": [
    "df_session_timestamp.createOrReplaceTempView('session_timestamp')"
   ],
   "metadata": {
    "collapsed": false,
    "ExecuteTime": {
     "end_time": "2023-07-05T08:41:18.233911Z",
     "start_time": "2023-07-05T08:41:18.189954Z"
    }
   }
  },
  {
   "cell_type": "code",
   "execution_count": 25,
   "outputs": [],
   "source": [
    "channel_count_df = spark.sql(\"\"\"\n",
    "SELECT channel, count(distinct userId) uniqueUsers\n",
    "FROM session_timestamp st\n",
    "JOIN user_session_channel usc ON st.sessionID = usc.sessionID\n",
    "GROUP BY 1\n",
    "ORDER BY 1\n",
    "\"\"\")"
   ],
   "metadata": {
    "collapsed": false,
    "ExecuteTime": {
     "end_time": "2023-07-05T08:42:24.595956Z",
     "start_time": "2023-07-05T08:42:24.417160Z"
    }
   }
  },
  {
   "cell_type": "code",
   "execution_count": 26,
   "outputs": [
    {
     "name": "stderr",
     "output_type": "stream",
     "text": [
      "                                                                                \r"
     ]
    },
    {
     "name": "stdout",
     "output_type": "stream",
     "text": [
      "+---------+-----------+\n",
      "|  channel|uniqueUsers|\n",
      "+---------+-----------+\n",
      "| Facebook|        889|\n",
      "|   Google|        893|\n",
      "|Instagram|        895|\n",
      "|    Naver|        882|\n",
      "|  Organic|        895|\n",
      "|  Youtube|        889|\n",
      "+---------+-----------+\n",
      "\n"
     ]
    }
   ],
   "source": [
    "channel_count_df.show()"
   ],
   "metadata": {
    "collapsed": false,
    "ExecuteTime": {
     "end_time": "2023-07-05T08:42:33.520355Z",
     "start_time": "2023-07-05T08:42:31.457480Z"
    }
   }
  },
  {
   "cell_type": "code",
   "execution_count": 27,
   "outputs": [],
   "source": [
    "mau_df = spark.sql(\"\"\"\n",
    "SELECT\n",
    "LEFT(A.ts, 7) AS month,\n",
    "COUNT(DISTINCT B.userid) AS mau\n",
    "FROM session_timestamp A\n",
    "JOIN user_session_channel B ON A.sessionid = B.sessionid\n",
    "GROUP BY 1\n",
    "ORDER BY 1 DESc\n",
    "\"\"\")"
   ],
   "metadata": {
    "collapsed": false,
    "ExecuteTime": {
     "end_time": "2023-07-05T08:43:42.824903Z",
     "start_time": "2023-07-05T08:43:42.605352Z"
    }
   }
  },
  {
   "cell_type": "code",
   "execution_count": 36,
   "outputs": [
    {
     "name": "stdout",
     "output_type": "stream",
     "text": [
      "+-------+---+\n",
      "|  month|mau|\n",
      "+-------+---+\n",
      "|2019-05|281|\n",
      "|2019-06|459|\n",
      "|2019-07|623|\n",
      "|2019-09|639|\n",
      "|2019-08|662|\n",
      "|2019-11|721|\n",
      "|2019-10|763|\n",
      "+-------+---+\n",
      "\n"
     ]
    }
   ],
   "source": [
    "mau_df.orderBy('mau').show()"
   ],
   "metadata": {
    "collapsed": false,
    "ExecuteTime": {
     "end_time": "2023-07-05T09:12:46.181114Z",
     "start_time": "2023-07-05T09:12:44.732275Z"
    }
   }
  },
  {
   "cell_type": "code",
   "execution_count": 37,
   "outputs": [
    {
     "data": {
      "text/plain": "DataFrame[_c0: string, _c1: string]"
     },
     "execution_count": 37,
     "metadata": {},
     "output_type": "execute_result"
    }
   ],
   "source": [
    "name_gneder = spark.read.format('csv').csv('name_gender.csv')"
   ],
   "metadata": {
    "collapsed": false,
    "ExecuteTime": {
     "end_time": "2023-07-05T09:17:28.598591Z",
     "start_time": "2023-07-05T09:17:27.798962Z"
    }
   }
  },
  {
   "cell_type": "code",
   "execution_count": null,
   "outputs": [],
   "source": [],
   "metadata": {
    "collapsed": false
   }
  }
 ],
 "metadata": {
  "kernelspec": {
   "display_name": "Python 3",
   "language": "python",
   "name": "python3"
  },
  "language_info": {
   "codemirror_mode": {
    "name": "ipython",
    "version": 2
   },
   "file_extension": ".py",
   "mimetype": "text/x-python",
   "name": "python",
   "nbconvert_exporter": "python",
   "pygments_lexer": "ipython2",
   "version": "2.7.6"
  }
 },
 "nbformat": 4,
 "nbformat_minor": 0
}

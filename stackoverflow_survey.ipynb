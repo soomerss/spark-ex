{
 "cells": [
  {
   "cell_type": "code",
   "execution_count": 16,
   "outputs": [
    {
     "name": "stdout",
     "output_type": "stream",
     "text": [
      "--2023-07-05 02:30:12--  https://s3-geospatial.s3-us-west-2.amazonaws.com/\r\n",
      "Resolving s3-geospatial.s3-us-west-2.amazonaws.com (s3-geospatial.s3-us-west-2.amazonaws.com)... 52.92.145.34, 52.92.152.106, 52.218.242.249, ...\r\n",
      "Connecting to s3-geospatial.s3-us-west-2.amazonaws.com (s3-geospatial.s3-us-west-2.amazonaws.com)|52.92.145.34|:443... connected.\r\n",
      "HTTP request sent, awaiting response... 403 Forbidden\r\n",
      "2023-07-05 02:30:13 ERROR 403: Forbidden.\r\n",
      "\r\n"
     ]
    }
   ],
   "source": [
    "\n",
    "!wget https://s3-geospatial.s3-us-west-2.amazonaws.com/survey_results_public.csv -P ./down\n"
   ],
   "metadata": {
    "collapsed": false,
    "ExecuteTime": {
     "end_time": "2023-07-04T17:30:13.275955Z",
     "start_time": "2023-07-04T17:30:12.426534Z"
    }
   }
  },
  {
   "cell_type": "code",
   "execution_count": 63,
   "outputs": [],
   "source": [
    "from pyspark.sql import SparkSession\n",
    "from pyspark import SparkConf\n",
    "\n",
    "conf = SparkConf()\n",
    "conf.set('spark.app.name','pyspark_stack')\n",
    "conf.set('spark.master','local[*]')\n",
    "\n",
    "spark = SparkSession.builder\\\n",
    "    .config(conf=conf)\\\n",
    "    .getOrCreate()"
   ],
   "metadata": {
    "collapsed": false,
    "ExecuteTime": {
     "end_time": "2023-07-05T07:05:56.279274Z",
     "start_time": "2023-07-05T07:05:56.188227Z"
    }
   }
  },
  {
   "cell_type": "code",
   "execution_count": 23,
   "outputs": [
    {
     "name": "stdout",
     "output_type": "stream",
     "text": [
      "+----------+----------------------+----------------------+\n",
      "|ResponseId|LanguageHaveWorkedWith|LanguageWantToWorkWith|\n",
      "+----------+----------------------+----------------------+\n",
      "|         1|  C++;HTML/CSS;Java...|                 Swift|\n",
      "|         2|     JavaScript;Python|                    NA|\n",
      "|         3|  Assembly;C;Python...|     Julia;Python;Rust|\n",
      "|         4|  JavaScript;TypeSc...|  JavaScript;TypeSc...|\n",
      "|         5|  Bash/Shell;HTML/C...|  Bash/Shell;HTML/C...|\n",
      "|         6|  C;C#;C++;HTML/CSS...|  C#;C++;Go;HTML/CS...|\n",
      "|         7|   HTML/CSS;JavaScript|  HTML/CSS;JavaScri...|\n",
      "|         8|  HTML/CSS;JavaScri...|                  Ruby|\n",
      "|         9|   HTML/CSS;JavaScript|   HTML/CSS;JavaScript|\n",
      "|        10|            C++;Python|        Haskell;Python|\n",
      "|        11|         C#;TypeScript|                    C#|\n",
      "|        12|  Bash/Shell;HTML/C...|  C++;Clojure;JavaS...|\n",
      "|        13|  C;C++;Java;Perl;Ruby|                  Rust|\n",
      "|        14|  C;C++;JavaScript;...|                    NA|\n",
      "|        15|        JavaScript;SQL|    JavaScript;PHP;SQL|\n",
      "|        16|     Bash/Shell;Python|     Bash/Shell;Python|\n",
      "|        17|  C#;HTML/CSS;Java;...|  C#;Java;JavaScrip...|\n",
      "|        18|  Bash/Shell;HTML/C...|  Bash/Shell;HTML/C...|\n",
      "|        19|            C++;Python|            C++;Python|\n",
      "|        20|  C;C++;HTML/CSS;Ja...|  C;C++;HTML/CSS;Ja...|\n",
      "+----------+----------------------+----------------------+\n",
      "only showing top 20 rows\n",
      "\n"
     ]
    }
   ],
   "source": [
    "df = spark.read.csv('down/survey_results_public.csv',header=True).select('ResponseId','LanguageHaveWorkedWith','LanguageWantToWorkWith')\n",
    "df.show()"
   ],
   "metadata": {
    "collapsed": false,
    "ExecuteTime": {
     "end_time": "2023-07-04T17:34:30.940022Z",
     "start_time": "2023-07-04T17:34:29.386468Z"
    }
   }
  },
  {
   "cell_type": "code",
   "execution_count": 24,
   "outputs": [
    {
     "name": "stdout",
     "output_type": "stream",
     "text": [
      "+----------+----------------------+----------------------+--------------------+\n",
      "|ResponseId|LanguageHaveWorkedWith|LanguageWantToWorkWith|       language_have|\n",
      "+----------+----------------------+----------------------+--------------------+\n",
      "|         1|  C++;HTML/CSS;Java...|                 Swift|[C++, HTML/CSS, J...|\n",
      "|         2|     JavaScript;Python|                    NA|[JavaScript, Python]|\n",
      "|         3|  Assembly;C;Python...|     Julia;Python;Rust|[Assembly, C, Pyt...|\n",
      "|         4|  JavaScript;TypeSc...|  JavaScript;TypeSc...|[JavaScript, Type...|\n",
      "|         5|  Bash/Shell;HTML/C...|  Bash/Shell;HTML/C...|[Bash/Shell, HTML...|\n",
      "|         6|  C;C#;C++;HTML/CSS...|  C#;C++;Go;HTML/CS...|[C, C#, C++, HTML...|\n",
      "|         7|   HTML/CSS;JavaScript|  HTML/CSS;JavaScri...|[HTML/CSS, JavaSc...|\n",
      "|         8|  HTML/CSS;JavaScri...|                  Ruby|[HTML/CSS, JavaSc...|\n",
      "|         9|   HTML/CSS;JavaScript|   HTML/CSS;JavaScript|[HTML/CSS, JavaSc...|\n",
      "|        10|            C++;Python|        Haskell;Python|       [C++, Python]|\n",
      "|        11|         C#;TypeScript|                    C#|    [C#, TypeScript]|\n",
      "|        12|  Bash/Shell;HTML/C...|  C++;Clojure;JavaS...|[Bash/Shell, HTML...|\n",
      "|        13|  C;C++;Java;Perl;Ruby|                  Rust|[C, C++, Java, Pe...|\n",
      "|        14|  C;C++;JavaScript;...|                    NA|[C, C++, JavaScri...|\n",
      "|        15|        JavaScript;SQL|    JavaScript;PHP;SQL|   [JavaScript, SQL]|\n",
      "|        16|     Bash/Shell;Python|     Bash/Shell;Python|[Bash/Shell, Python]|\n",
      "|        17|  C#;HTML/CSS;Java;...|  C#;Java;JavaScrip...|[C#, HTML/CSS, Ja...|\n",
      "|        18|  Bash/Shell;HTML/C...|  Bash/Shell;HTML/C...|[Bash/Shell, HTML...|\n",
      "|        19|            C++;Python|            C++;Python|       [C++, Python]|\n",
      "|        20|  C;C++;HTML/CSS;Ja...|  C;C++;HTML/CSS;Ja...|[C, C++, HTML/CSS...|\n",
      "+----------+----------------------+----------------------+--------------------+\n",
      "only showing top 20 rows\n",
      "\n"
     ]
    }
   ],
   "source": [
    "import pyspark.sql.functions as F\n",
    "\n",
    "df2 = df.withColumn(\n",
    "    'language_have',\n",
    "    F.split(F.trim(F.col(\"LanguageHaveWorkedWith\")),\";\")\n",
    ")\n",
    "df2.show()"
   ],
   "metadata": {
    "collapsed": false,
    "ExecuteTime": {
     "end_time": "2023-07-04T17:35:23.415845Z",
     "start_time": "2023-07-04T17:35:22.980128Z"
    }
   }
  },
  {
   "cell_type": "code",
   "execution_count": 27,
   "outputs": [
    {
     "name": "stdout",
     "output_type": "stream",
     "text": [
      "+----------+----------------------+----------------------+--------------------+--------------------+\n",
      "|ResponseId|LanguageHaveWorkedWith|LanguageWantToWorkWith|       language_have|       language_want|\n",
      "+----------+----------------------+----------------------+--------------------+--------------------+\n",
      "|         1|  C++;HTML/CSS;Java...|                 Swift|[C++, HTML/CSS, J...|             [Swift]|\n",
      "|         2|     JavaScript;Python|                    NA|[JavaScript, Python]|                [NA]|\n",
      "|         3|  Assembly;C;Python...|     Julia;Python;Rust|[Assembly, C, Pyt...|[Julia, Python, R...|\n",
      "|         4|  JavaScript;TypeSc...|  JavaScript;TypeSc...|[JavaScript, Type...|[JavaScript, Type...|\n",
      "|         5|  Bash/Shell;HTML/C...|  Bash/Shell;HTML/C...|[Bash/Shell, HTML...|[Bash/Shell, HTML...|\n",
      "|         6|  C;C#;C++;HTML/CSS...|  C#;C++;Go;HTML/CS...|[C, C#, C++, HTML...|[C#, C++, Go, HTM...|\n",
      "|         7|   HTML/CSS;JavaScript|  HTML/CSS;JavaScri...|[HTML/CSS, JavaSc...|[HTML/CSS, JavaSc...|\n",
      "|         8|  HTML/CSS;JavaScri...|                  Ruby|[HTML/CSS, JavaSc...|              [Ruby]|\n",
      "|         9|   HTML/CSS;JavaScript|   HTML/CSS;JavaScript|[HTML/CSS, JavaSc...|[HTML/CSS, JavaSc...|\n",
      "|        10|            C++;Python|        Haskell;Python|       [C++, Python]|   [Haskell, Python]|\n",
      "|        11|         C#;TypeScript|                    C#|    [C#, TypeScript]|                [C#]|\n",
      "|        12|  Bash/Shell;HTML/C...|  C++;Clojure;JavaS...|[Bash/Shell, HTML...|[C++, Clojure, Ja...|\n",
      "|        13|  C;C++;Java;Perl;Ruby|                  Rust|[C, C++, Java, Pe...|              [Rust]|\n",
      "|        14|  C;C++;JavaScript;...|                    NA|[C, C++, JavaScri...|                [NA]|\n",
      "|        15|        JavaScript;SQL|    JavaScript;PHP;SQL|   [JavaScript, SQL]|[JavaScript, PHP,...|\n",
      "|        16|     Bash/Shell;Python|     Bash/Shell;Python|[Bash/Shell, Python]|[Bash/Shell, Python]|\n",
      "|        17|  C#;HTML/CSS;Java;...|  C#;Java;JavaScrip...|[C#, HTML/CSS, Ja...|[C#, Java, JavaSc...|\n",
      "|        18|  Bash/Shell;HTML/C...|  Bash/Shell;HTML/C...|[Bash/Shell, HTML...|[Bash/Shell, HTML...|\n",
      "|        19|            C++;Python|            C++;Python|       [C++, Python]|       [C++, Python]|\n",
      "|        20|  C;C++;HTML/CSS;Ja...|  C;C++;HTML/CSS;Ja...|[C, C++, HTML/CSS...|[C, C++, HTML/CSS...|\n",
      "+----------+----------------------+----------------------+--------------------+--------------------+\n",
      "only showing top 20 rows\n",
      "\n"
     ]
    }
   ],
   "source": [
    "df3 = df2.withColumn(\n",
    "    'language_want',\n",
    "    F.split(F.trim(F.col(\"LanguageWantToWorkWith\")),\";\")\n",
    ")\n",
    "df3.show()"
   ],
   "metadata": {
    "collapsed": false,
    "ExecuteTime": {
     "end_time": "2023-07-04T17:40:05.338192Z",
     "start_time": "2023-07-04T17:40:05.053258Z"
    }
   }
  },
  {
   "cell_type": "code",
   "execution_count": 31,
   "outputs": [
    {
     "name": "stdout",
     "output_type": "stream",
     "text": [
      "+----------+-------------+\n",
      "|ResponseId|language_have|\n",
      "+----------+-------------+\n",
      "|         1|          C++|\n",
      "|         1|     HTML/CSS|\n",
      "|         1|   JavaScript|\n",
      "|         1|  Objective-C|\n",
      "|         1|          PHP|\n",
      "|         1|        Swift|\n",
      "|         2|   JavaScript|\n",
      "|         2|       Python|\n",
      "|         3|     Assembly|\n",
      "|         3|            C|\n",
      "|         3|       Python|\n",
      "|         3|            R|\n",
      "|         3|         Rust|\n",
      "|         4|   JavaScript|\n",
      "|         4|   TypeScript|\n",
      "|         5|   Bash/Shell|\n",
      "|         5|     HTML/CSS|\n",
      "|         5|       Python|\n",
      "|         5|          SQL|\n",
      "|         6|            C|\n",
      "+----------+-------------+\n",
      "only showing top 20 rows\n",
      "\n"
     ]
    }
   ],
   "source": [
    "df_language_have = df3.select(\n",
    "    df3.ResponseId,\n",
    "    F.explode(df3.language_have).alias('language_have')\n",
    ")\n",
    "df_language_have.show()"
   ],
   "metadata": {
    "collapsed": false,
    "ExecuteTime": {
     "end_time": "2023-07-04T17:42:30.337617Z",
     "start_time": "2023-07-04T17:42:29.924816Z"
    }
   }
  },
  {
   "cell_type": "code",
   "execution_count": 33,
   "outputs": [
    {
     "name": "stderr",
     "output_type": "stream",
     "text": [
      "[Stage 11:=======>                                                  (1 + 7) / 8]\r"
     ]
    },
    {
     "name": "stdout",
     "output_type": "stream",
     "text": [
      "+-------------+-----+\n",
      "|language_have|count|\n",
      "+-------------+-----+\n",
      "|           C#|22984|\n",
      "|          VBA| 3847|\n",
      "|         Rust| 5799|\n",
      "|   Bash/Shell|22385|\n",
      "|   JavaScript|53587|\n",
      "|           NA| 1082|\n",
      "|         Perl| 2028|\n",
      "|       Erlang|  651|\n",
      "|       Matlab| 3846|\n",
      "|      Crystal|  466|\n",
      "|          C++|20057|\n",
      "|           F#|  804|\n",
      "|       Groovy| 2479|\n",
      "|         Dart| 4965|\n",
      "|          APL|  536|\n",
      "|       Delphi| 1731|\n",
      "|        Julia| 1068|\n",
      "|  Objective-C| 2310|\n",
      "|            C|17329|\n",
      "|        Swift| 4204|\n",
      "+-------------+-----+\n",
      "only showing top 20 rows\n",
      "\n"
     ]
    },
    {
     "name": "stderr",
     "output_type": "stream",
     "text": [
      "                                                                                \r"
     ]
    }
   ],
   "source": [
    "df_language_have.groupby('language_have').count().show()"
   ],
   "metadata": {
    "collapsed": false,
    "ExecuteTime": {
     "end_time": "2023-07-04T17:45:02.986805Z",
     "start_time": "2023-07-04T17:45:01.474611Z"
    }
   }
  },
  {
   "cell_type": "markdown",
   "source": [
    "# Sort & orderBY\n",
    "# ascending & descending\n"
   ],
   "metadata": {
    "collapsed": false
   }
  },
  {
   "cell_type": "markdown",
   "source": [],
   "metadata": {
    "collapsed": false
   }
  },
  {
   "cell_type": "code",
   "execution_count": 40,
   "outputs": [
    {
     "name": "stdout",
     "output_type": "stream",
     "text": [
      "+-------------+-----+\n",
      "|language_have|count|\n",
      "+-------------+-----+\n",
      "|   JavaScript|53587|\n",
      "|     HTML/CSS|46259|\n",
      "|       Python|39792|\n",
      "|          SQL|38835|\n",
      "|         Java|29162|\n",
      "|      Node.js|27975|\n",
      "|   TypeScript|24909|\n",
      "|           C#|22984|\n",
      "|   Bash/Shell|22385|\n",
      "|          C++|20057|\n",
      "|          PHP|18130|\n",
      "|            C|17329|\n",
      "|   PowerShell| 8871|\n",
      "|           Go| 7879|\n",
      "|       Kotlin| 6866|\n",
      "|         Rust| 5799|\n",
      "|         Ruby| 5569|\n",
      "|         Dart| 4965|\n",
      "|     Assembly| 4632|\n",
      "|        Swift| 4204|\n",
      "|            R| 4185|\n",
      "|          VBA| 3847|\n",
      "|       Matlab| 3846|\n",
      "|       Groovy| 2479|\n",
      "|  Objective-C| 2310|\n",
      "|        Scala| 2148|\n",
      "|         Perl| 2028|\n",
      "|      Haskell| 1749|\n",
      "|       Delphi| 1731|\n",
      "|      Clojure| 1552|\n",
      "|       Elixir| 1438|\n",
      "|         LISP| 1096|\n",
      "|           NA| 1082|\n",
      "|        Julia| 1068|\n",
      "|           F#|  804|\n",
      "|       Erlang|  651|\n",
      "|          APL|  536|\n",
      "|      Crystal|  466|\n",
      "|        COBOL|  437|\n",
      "+-------------+-----+\n",
      "\n"
     ]
    }
   ],
   "source": [
    "df_language_have.groupby('language_have').count().sort(F.desc(\"count\")).show(100)"
   ],
   "metadata": {
    "collapsed": false,
    "ExecuteTime": {
     "end_time": "2023-07-04T17:47:02.100417Z",
     "start_time": "2023-07-04T17:47:01.165691Z"
    }
   }
  },
  {
   "cell_type": "code",
   "execution_count": 52,
   "outputs": [],
   "source": [
    "df_50 = df_language_have.groupby('language_have').count().orderBy('count', ascending=False)\n"
   ],
   "metadata": {
    "collapsed": false,
    "ExecuteTime": {
     "end_time": "2023-07-04T17:50:14.231488Z",
     "start_time": "2023-07-04T17:50:14.174684Z"
    }
   }
  },
  {
   "cell_type": "code",
   "execution_count": 53,
   "outputs": [],
   "source": [
    "df_50.write.mode('overwrite').csv('lang_50.csv')"
   ],
   "metadata": {
    "collapsed": false,
    "ExecuteTime": {
     "end_time": "2023-07-04T17:50:17.485322Z",
     "start_time": "2023-07-04T17:50:16.164563Z"
    }
   }
  },
  {
   "cell_type": "markdown",
   "source": [],
   "metadata": {
    "collapsed": false
   }
  },
  {
   "cell_type": "code",
   "execution_count": 54,
   "outputs": [
    {
     "name": "stdout",
     "output_type": "stream",
     "text": [
      "total 1728\r\n",
      "-rw-r--r--@ 1 giho.han  staff   17349 Jul  5 02:50 stackoverflow_survey.ipynb\r\n",
      "drwxr-xr-x@ 6 giho.han  staff     192 Jul  5 02:50 \u001B[34mlang_50.csv\u001B[m\u001B[m\r\n",
      "drwxr-xr-x@ 3 giho.han  staff      96 Jul  5 02:29 \u001B[34mdown\u001B[m\u001B[m\r\n",
      "-rw-r--r--@ 1 giho.han  staff   18429 Jul  5 02:22 String_parse.ipynb\r\n",
      "drwxr-xr-x@ 6 giho.han  staff     192 Jul  5 02:20 \u001B[34mextracted.json\u001B[m\u001B[m\r\n",
      "drwxr-xr-x@ 6 giho.han  staff     192 Jul  5 02:20 \u001B[34mextract2.csv\u001B[m\u001B[m\r\n",
      "drwxr-xr-x@ 6 giho.han  staff     192 Jul  5 02:16 \u001B[34mextract.csv\u001B[m\u001B[m\r\n",
      "-rw-r--r--@ 1 giho.han  staff    8893 Jul  5 01:43 colab_main2.ipynb\r\n",
      "drwxr-xr-x@ 2 giho.han  staff      64 Jul  5 01:43 \u001B[34mspark-warehouse\u001B[m\u001B[m\r\n",
      "-rw-r--r--@ 1 giho.han  staff   26077 Jul  5 01:18 colab_main1.ipynb\r\n",
      "-rw-r--r--@ 1 giho.han  staff      10 Jul  5 00:10 README.md\r\n",
      "-rw-r--r--@ 1 giho.han  staff     997 Jul  5 00:06 name_gender.csv\r\n",
      "-rw-r--r--@ 1 giho.han  staff     519 Jul  5 00:06 main.py\r\n",
      "-rw-r--r--@ 1 giho.han  staff  136855 Jul  5 00:06 customer-orders.csv\r\n",
      "-rw-r--r--@ 1 giho.han  staff   62728 Jul  5 00:06 1800.csv\r\n",
      "drwxr-xr-x@ 9 giho.han  staff     288 Jul  4 18:45 \u001B[34mvenv\u001B[m\u001B[m\r\n",
      "-rw-r--r--@ 1 giho.han  staff  286779 Apr 25  2022 transfer_cost.txt\r\n",
      "-rw-r--r--@ 1 giho.han  staff  146855 Apr 10  2022 customer-orders.csv.1\r\n",
      "-rw-r--r--@ 1 giho.han  staff  146855 Apr 10  2022 customer-orders.csv.2\r\n"
     ]
    }
   ],
   "source": [
    "!ls -tl"
   ],
   "metadata": {
    "collapsed": false,
    "ExecuteTime": {
     "end_time": "2023-07-04T17:50:35.728709Z",
     "start_time": "2023-07-04T17:50:35.592390Z"
    }
   }
  },
  {
   "cell_type": "code",
   "execution_count": 57,
   "outputs": [],
   "source": [
    "df_want = df3.select(\n",
    "    df3.ResponseId,\n",
    "    F.explode(df3.language_want).alias('language_want')\n",
    ")"
   ],
   "metadata": {
    "collapsed": false,
    "ExecuteTime": {
     "end_time": "2023-07-04T17:51:41.629584Z",
     "start_time": "2023-07-04T17:51:41.610462Z"
    }
   }
  },
  {
   "cell_type": "code",
   "execution_count": 58,
   "outputs": [
    {
     "name": "stdout",
     "output_type": "stream",
     "text": [
      "+----------+-------------+\n",
      "|ResponseId|language_want|\n",
      "+----------+-------------+\n",
      "|         1|        Swift|\n",
      "|         2|           NA|\n",
      "|         3|        Julia|\n",
      "|         3|       Python|\n",
      "|         3|         Rust|\n",
      "|         4|   JavaScript|\n",
      "|         4|   TypeScript|\n",
      "|         5|   Bash/Shell|\n",
      "|         5|     HTML/CSS|\n",
      "|         5|       Python|\n",
      "|         5|          SQL|\n",
      "|         6|           C#|\n",
      "|         6|          C++|\n",
      "|         6|           Go|\n",
      "|         6|     HTML/CSS|\n",
      "|         6|         Java|\n",
      "|         6|   JavaScript|\n",
      "|         6|      Node.js|\n",
      "|         6|  Objective-C|\n",
      "|         6|         Perl|\n",
      "+----------+-------------+\n",
      "only showing top 20 rows\n",
      "\n"
     ]
    }
   ],
   "source": [
    "df_want.show()"
   ],
   "metadata": {
    "collapsed": false,
    "ExecuteTime": {
     "end_time": "2023-07-04T17:51:46.444496Z",
     "start_time": "2023-07-04T17:51:46.286084Z"
    }
   }
  },
  {
   "cell_type": "code",
   "execution_count": 61,
   "outputs": [],
   "source": [
    "fin_want_df = df_want.groupby('language_want').count().orderBy('count',ascending=False)"
   ],
   "metadata": {
    "collapsed": false,
    "ExecuteTime": {
     "end_time": "2023-07-04T17:53:05.433395Z",
     "start_time": "2023-07-04T17:53:05.379641Z"
    }
   }
  },
  {
   "cell_type": "code",
   "execution_count": 62,
   "outputs": [],
   "source": [
    "fin_want_df.write.mode('overwrite').csv('fin_want_df.csv')"
   ],
   "metadata": {
    "collapsed": false,
    "ExecuteTime": {
     "end_time": "2023-07-04T17:53:23.445296Z",
     "start_time": "2023-07-04T17:53:22.445024Z"
    }
   }
  }
 ],
 "metadata": {
  "kernelspec": {
   "display_name": "Python 3",
   "language": "python",
   "name": "python3"
  },
  "language_info": {
   "codemirror_mode": {
    "name": "ipython",
    "version": 2
   },
   "file_extension": ".py",
   "mimetype": "text/x-python",
   "name": "python",
   "nbconvert_exporter": "python",
   "pygments_lexer": "ipython2",
   "version": "2.7.6"
  }
 },
 "nbformat": 4,
 "nbformat_minor": 0
}
